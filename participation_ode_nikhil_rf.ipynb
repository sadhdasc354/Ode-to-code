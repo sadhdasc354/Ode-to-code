{
 "cells": [
  {
   "cell_type": "code",
   "execution_count": 1,
   "id": "b356b7a9",
   "metadata": {},
   "outputs": [
    {
     "name": "stdout",
     "output_type": "stream",
     "text": [
      "Hello World\n"
     ]
    }
   ],
   "source": [
    "print('Hello World')"
   ]
  },
  {
   "cell_type": "markdown",
   "id": "8e7c943b",
   "metadata": {},
   "source": [
    "Loading some required packages"
   ]
  },
  {
   "cell_type": "code",
   "execution_count": 2,
   "id": "9adc8c94",
   "metadata": {},
   "outputs": [],
   "source": [
    "import os\n",
    "import pandas as pd\n",
    "import numpy as np\n",
    "import matplotlib.pyplot as plt\n",
    "import seaborn as sns\n",
    "import scipy.stats as sp\n",
    "from sklearn.ensemble import RandomForestClassifier\n",
    "from sklearn import metrics\n",
    "from sklearn.model_selection import GridSearchCV"
   ]
  },
  {
   "cell_type": "code",
   "execution_count": 3,
   "id": "4a1d3be7",
   "metadata": {
    "scrolled": true
   },
   "outputs": [
    {
     "data": {
      "text/plain": [
       "'C:\\\\Users\\\\Nikhil\\\\paricipate'"
      ]
     },
     "execution_count": 3,
     "metadata": {},
     "output_type": "execute_result"
    }
   ],
   "source": [
    "os.getcwd()"
   ]
  },
  {
   "cell_type": "markdown",
   "id": "e45404cf",
   "metadata": {},
   "source": [
    "Loading the data"
   ]
  },
  {
   "cell_type": "code",
   "execution_count": 4,
   "id": "43ec9eda",
   "metadata": {},
   "outputs": [],
   "source": [
    "os.chdir(r'D:\\participate\\Participants_Data_THL\\Participants_Data_THL')"
   ]
  },
  {
   "cell_type": "code",
   "execution_count": 5,
   "id": "26417b9c",
   "metadata": {},
   "outputs": [
    {
     "data": {
      "text/plain": [
       "['cor.csv',\n",
       " 'sample_submission.csv',\n",
       " 'submission_nikhil_dt.csv',\n",
       " 'test.csv',\n",
       " 'train.csv',\n",
       " 'vif.csv',\n",
       " 'vif1.csv']"
      ]
     },
     "execution_count": 5,
     "metadata": {},
     "output_type": "execute_result"
    }
   ],
   "source": [
    "os.listdir()"
   ]
  },
  {
   "cell_type": "code",
   "execution_count": 6,
   "id": "bf66f4e0",
   "metadata": {},
   "outputs": [],
   "source": [
    "trn=pd.read_csv('train.csv')\n",
    "tst=pd.read_csv('test.csv')"
   ]
  },
  {
   "cell_type": "code",
   "execution_count": 7,
   "id": "bcac34d7",
   "metadata": {},
   "outputs": [
    {
     "name": "stdout",
     "output_type": "stream",
     "text": [
      "train shape : (42748, 14)\n",
      "test shape : (18321, 14)\n"
     ]
    }
   ],
   "source": [
    "print('train shape : {}'.format(trn.shape))\n",
    "print('test shape : {}'.format(tst.shape))"
   ]
  },
  {
   "cell_type": "code",
   "execution_count": 8,
   "id": "3a9d2f34",
   "metadata": {
    "scrolled": true
   },
   "outputs": [
    {
     "name": "stdout",
     "output_type": "stream",
     "text": [
      "<class 'pandas.core.frame.DataFrame'>\n",
      "RangeIndex: 42748 entries, 0 to 42747\n",
      "Data columns (total 14 columns):\n",
      " #   Column                Non-Null Count  Dtype  \n",
      "---  ------                --------------  -----  \n",
      " 0   edible-poisonous      42748 non-null  object \n",
      " 1   cap-diameter          42748 non-null  float64\n",
      " 2   cap-shape             42748 non-null  object \n",
      " 3   cap-color             42748 non-null  object \n",
      " 4   does-bruise-or-bleed  42748 non-null  object \n",
      " 5   gill-attachment       35808 non-null  object \n",
      " 6   gill-color            42748 non-null  object \n",
      " 7   stem-height           42748 non-null  float64\n",
      " 8   stem-width            42748 non-null  float64\n",
      " 9   stem-color            42748 non-null  object \n",
      " 10  has-ring              42748 non-null  object \n",
      " 11  ring-type             41029 non-null  object \n",
      " 12  habitat               42748 non-null  object \n",
      " 13  season                42748 non-null  object \n",
      "dtypes: float64(3), object(11)\n",
      "memory usage: 4.6+ MB\n"
     ]
    }
   ],
   "source": [
    "#basic info about the data\n",
    "trn.info()"
   ]
  },
  {
   "cell_type": "code",
   "execution_count": 9,
   "id": "f7f5bc58",
   "metadata": {},
   "outputs": [
    {
     "data": {
      "text/plain": [
       "a    21103\n",
       "u    16055\n",
       "w     3698\n",
       "s     1892\n",
       "Name: season, dtype: int64"
      ]
     },
     "execution_count": 9,
     "metadata": {},
     "output_type": "execute_result"
    }
   ],
   "source": [
    "#target variable\n",
    "trn['season'].value_counts()"
   ]
  },
  {
   "cell_type": "code",
   "execution_count": 10,
   "id": "d01b4d50",
   "metadata": {},
   "outputs": [
    {
     "data": {
      "text/plain": [
       "0    21103\n",
       "1    16055\n",
       "2     3698\n",
       "3     1892\n",
       "Name: season, dtype: int64"
      ]
     },
     "execution_count": 10,
     "metadata": {},
     "output_type": "execute_result"
    }
   ],
   "source": [
    "#season is categorical making them numerical\n",
    "def season_binary(x):\n",
    "    for i in x:\n",
    "        if x=='a':\n",
    "            return 0\n",
    "        elif x==\"u\":\n",
    "            return 1\n",
    "        elif x==\"w\":\n",
    "            return 2\n",
    "        else:\n",
    "            return 3\n",
    "\n",
    "trn['season']=trn['season'].apply(season_binary)\n",
    "trn['season'].value_counts()"
   ]
  },
  {
   "cell_type": "code",
   "execution_count": 11,
   "id": "550d3854",
   "metadata": {
    "scrolled": true
   },
   "outputs": [
    {
     "name": "stdout",
     "output_type": "stream",
     "text": [
      "<class 'pandas.core.frame.DataFrame'>\n",
      "RangeIndex: 18321 entries, 0 to 18320\n",
      "Data columns (total 14 columns):\n",
      " #   Column                Non-Null Count  Dtype  \n",
      "---  ------                --------------  -----  \n",
      " 0   edible-poisonous      18321 non-null  object \n",
      " 1   cap-diameter          18321 non-null  float64\n",
      " 2   cap-shape             18321 non-null  object \n",
      " 3   cap-color             18321 non-null  object \n",
      " 4   does-bruise-or-bleed  18321 non-null  object \n",
      " 5   gill-attachment       15377 non-null  object \n",
      " 6   gill-color            18321 non-null  object \n",
      " 7   stem-height           18321 non-null  float64\n",
      " 8   stem-width            18321 non-null  float64\n",
      " 9   stem-color            18321 non-null  object \n",
      " 10  has-ring              18321 non-null  object \n",
      " 11  ring-type             17569 non-null  object \n",
      " 12  habitat               18321 non-null  object \n",
      " 13  season                0 non-null      float64\n",
      "dtypes: float64(4), object(10)\n",
      "memory usage: 2.0+ MB\n"
     ]
    }
   ],
   "source": [
    "tst.info()#checking data"
   ]
  },
  {
   "cell_type": "code",
   "execution_count": 12,
   "id": "f6fb206a",
   "metadata": {},
   "outputs": [],
   "source": [
    "#appending trn and tst table \n",
    "df=trn.append(tst)"
   ]
  },
  {
   "cell_type": "code",
   "execution_count": 13,
   "id": "5e38a3f1",
   "metadata": {},
   "outputs": [
    {
     "name": "stdout",
     "output_type": "stream",
     "text": [
      "  edible-poisonous  cap-diameter cap-shape cap-color does-bruise-or-bleed  \\\n",
      "0                p          5.75         x         n                    t   \n",
      "1                p          2.27         o         g                    f   \n",
      "2                p          5.59         c         y                    t   \n",
      "3                p          0.74         x         p                    f   \n",
      "4                p          9.60         x         n                    f   \n",
      "\n",
      "  gill-attachment gill-color  stem-height  stem-width stem-color has-ring  \\\n",
      "0               s          w         6.13       14.93          w        f   \n",
      "1               f          f         0.00        0.00          f        f   \n",
      "2               x          p         5.47       11.27          w        f   \n",
      "3               a          n         4.33        0.98          k        f   \n",
      "4               a          w        10.84       28.52          w        f   \n",
      "\n",
      "  ring-type habitat  season  \n",
      "0         f       d     0.0  \n",
      "1         f       d     3.0  \n",
      "2         f       d     0.0  \n",
      "3         f       d     0.0  \n",
      "4         f       d     1.0  \n",
      "      edible-poisonous  cap-diameter cap-shape cap-color does-bruise-or-bleed  \\\n",
      "18316                e          8.59         o         n                    f   \n",
      "18317                e          7.23         s         w                    f   \n",
      "18318                e          6.82         x         y                    t   \n",
      "18319                p          4.51         x         n                    f   \n",
      "18320                p          2.96         f         n                    t   \n",
      "\n",
      "      gill-attachment gill-color  stem-height  stem-width stem-color has-ring  \\\n",
      "18316             NaN          w         4.11       19.54          n        f   \n",
      "18317               d          p         3.56        9.42          w        f   \n",
      "18318               x          y         7.00       14.29          w        f   \n",
      "18319               s          p         6.25        9.97          w        t   \n",
      "18320               d          n         3.17        6.40          n        f   \n",
      "\n",
      "      ring-type habitat  season  \n",
      "18316         f       d     NaN  \n",
      "18317         f       d     NaN  \n",
      "18318         f       d     NaN  \n",
      "18319         z       d     NaN  \n",
      "18320         f       d     NaN  \n"
     ]
    }
   ],
   "source": [
    "#printing head and tail in df \n",
    "print(df.head())\n",
    "print(df.tail())"
   ]
  },
  {
   "cell_type": "code",
   "execution_count": 14,
   "id": "c5353439",
   "metadata": {},
   "outputs": [],
   "source": [
    "df.reset_index(inplace=True)# resetting index\n",
    "df.drop('index',axis=1,inplace=True)# dropping index column"
   ]
  },
  {
   "cell_type": "code",
   "execution_count": 15,
   "id": "51ac0b3e",
   "metadata": {
    "scrolled": true
   },
   "outputs": [
    {
     "name": "stdout",
     "output_type": "stream",
     "text": [
      "<class 'pandas.core.frame.DataFrame'>\n",
      "RangeIndex: 61069 entries, 0 to 61068\n",
      "Data columns (total 14 columns):\n",
      " #   Column                Non-Null Count  Dtype  \n",
      "---  ------                --------------  -----  \n",
      " 0   edible-poisonous      61069 non-null  object \n",
      " 1   cap-diameter          61069 non-null  float64\n",
      " 2   cap-shape             61069 non-null  object \n",
      " 3   cap-color             61069 non-null  object \n",
      " 4   does-bruise-or-bleed  61069 non-null  object \n",
      " 5   gill-attachment       51185 non-null  object \n",
      " 6   gill-color            61069 non-null  object \n",
      " 7   stem-height           61069 non-null  float64\n",
      " 8   stem-width            61069 non-null  float64\n",
      " 9   stem-color            61069 non-null  object \n",
      " 10  has-ring              61069 non-null  object \n",
      " 11  ring-type             58598 non-null  object \n",
      " 12  habitat               61069 non-null  object \n",
      " 13  season                42748 non-null  float64\n",
      "dtypes: float64(4), object(10)\n",
      "memory usage: 6.5+ MB\n"
     ]
    }
   ],
   "source": [
    "df.info()"
   ]
  },
  {
   "cell_type": "code",
   "execution_count": 16,
   "id": "bef7922f",
   "metadata": {},
   "outputs": [
    {
     "name": "stdout",
     "output_type": "stream",
     "text": [
      "train\n",
      "null value percentage in column edible-poisonous is 0% \n",
      "null value percentage in column cap-diameter is 0% \n",
      "null value percentage in column cap-shape is 0% \n",
      "null value percentage in column cap-color is 0% \n",
      "null value percentage in column does-bruise-or-bleed is 0% \n",
      "null value percentage in column gill-attachment is 16% \n",
      "null value percentage in column gill-color is 0% \n",
      "null value percentage in column stem-height is 0% \n",
      "null value percentage in column stem-width is 0% \n",
      "null value percentage in column stem-color is 0% \n",
      "null value percentage in column has-ring is 0% \n",
      "null value percentage in column ring-type is 4% \n",
      "null value percentage in column habitat is 0% \n",
      "null value percentage in column season is 0% \n",
      "--------------=--------------\n",
      "test\n",
      "null value percentage in column edible-poisonous is 0% \n",
      "null value percentage in column cap-diameter is 0% \n",
      "null value percentage in column cap-shape is 0% \n",
      "null value percentage in column cap-color is 0% \n",
      "null value percentage in column does-bruise-or-bleed is 0% \n",
      "null value percentage in column gill-attachment is 16% \n",
      "null value percentage in column gill-color is 0% \n",
      "null value percentage in column stem-height is 0% \n",
      "null value percentage in column stem-width is 0% \n",
      "null value percentage in column stem-color is 0% \n",
      "null value percentage in column has-ring is 0% \n",
      "null value percentage in column ring-type is 4% \n",
      "null value percentage in column habitat is 0% \n",
      "null value percentage in column season is 100% \n",
      "--------------=--------------\n",
      "master data\n",
      "null value percentage in column edible-poisonous is 0% \n",
      "null value percentage in column cap-diameter is 0% \n",
      "null value percentage in column cap-shape is 0% \n",
      "null value percentage in column cap-color is 0% \n",
      "null value percentage in column does-bruise-or-bleed is 0% \n",
      "null value percentage in column gill-attachment is 16% \n",
      "null value percentage in column gill-color is 0% \n",
      "null value percentage in column stem-height is 0% \n",
      "null value percentage in column stem-width is 0% \n",
      "null value percentage in column stem-color is 0% \n",
      "null value percentage in column has-ring is 0% \n",
      "null value percentage in column ring-type is 4% \n",
      "null value percentage in column habitat is 0% \n",
      "null value percentage in column season is 30% \n"
     ]
    }
   ],
   "source": [
    "#null value\n",
    "print('train')\n",
    "for i in trn.columns:\n",
    "    print('null value percentage in column {} is {}% '.format(i,round(trn[i].isnull().sum()/len(trn)*100)))\n",
    "print('--------------=--------------')\n",
    "#null value\n",
    "print('test')\n",
    "for i in tst.columns:\n",
    "    print('null value percentage in column {} is {}% '.format(i,round(tst[i].isnull().sum()/len(tst)*100)))\n",
    "print('--------------=--------------')\n",
    "#null value\n",
    "print('master data')\n",
    "for i in df.columns:\n",
    "    print('null value percentage in column {} is {}% '.format(i,round(df[i].isnull().sum()/len(df)*100)))"
   ]
  },
  {
   "cell_type": "markdown",
   "id": "476f2fb7",
   "metadata": {},
   "source": [
    "Missing value percentage is almost same "
   ]
  },
  {
   "cell_type": "markdown",
   "id": "3c58de32",
   "metadata": {},
   "source": [
    "##### Gill_attachment"
   ]
  },
  {
   "cell_type": "code",
   "execution_count": 17,
   "id": "189dd7d9",
   "metadata": {},
   "outputs": [
    {
     "data": {
      "text/html": [
       "<div>\n",
       "<style scoped>\n",
       "    .dataframe tbody tr th:only-of-type {\n",
       "        vertical-align: middle;\n",
       "    }\n",
       "\n",
       "    .dataframe tbody tr th {\n",
       "        vertical-align: top;\n",
       "    }\n",
       "\n",
       "    .dataframe thead th {\n",
       "        text-align: right;\n",
       "    }\n",
       "</style>\n",
       "<table border=\"1\" class=\"dataframe\">\n",
       "  <thead>\n",
       "    <tr style=\"text-align: right;\">\n",
       "      <th></th>\n",
       "      <th>edible-poisonous</th>\n",
       "      <th>cap-diameter</th>\n",
       "      <th>cap-shape</th>\n",
       "      <th>cap-color</th>\n",
       "      <th>does-bruise-or-bleed</th>\n",
       "      <th>gill-attachment</th>\n",
       "      <th>gill-color</th>\n",
       "      <th>stem-height</th>\n",
       "      <th>stem-width</th>\n",
       "      <th>stem-color</th>\n",
       "      <th>has-ring</th>\n",
       "      <th>ring-type</th>\n",
       "      <th>habitat</th>\n",
       "      <th>season</th>\n",
       "    </tr>\n",
       "  </thead>\n",
       "  <tbody>\n",
       "    <tr>\n",
       "      <th>9</th>\n",
       "      <td>p</td>\n",
       "      <td>5.87</td>\n",
       "      <td>o</td>\n",
       "      <td>w</td>\n",
       "      <td>f</td>\n",
       "      <td>NaN</td>\n",
       "      <td>w</td>\n",
       "      <td>0.00</td>\n",
       "      <td>0.00</td>\n",
       "      <td>f</td>\n",
       "      <td>f</td>\n",
       "      <td>f</td>\n",
       "      <td>d</td>\n",
       "      <td>0.0</td>\n",
       "    </tr>\n",
       "    <tr>\n",
       "      <th>12</th>\n",
       "      <td>p</td>\n",
       "      <td>0.73</td>\n",
       "      <td>x</td>\n",
       "      <td>y</td>\n",
       "      <td>f</td>\n",
       "      <td>NaN</td>\n",
       "      <td>y</td>\n",
       "      <td>3.62</td>\n",
       "      <td>0.77</td>\n",
       "      <td>w</td>\n",
       "      <td>f</td>\n",
       "      <td>f</td>\n",
       "      <td>d</td>\n",
       "      <td>1.0</td>\n",
       "    </tr>\n",
       "    <tr>\n",
       "      <th>13</th>\n",
       "      <td>e</td>\n",
       "      <td>8.70</td>\n",
       "      <td>o</td>\n",
       "      <td>n</td>\n",
       "      <td>f</td>\n",
       "      <td>NaN</td>\n",
       "      <td>w</td>\n",
       "      <td>4.74</td>\n",
       "      <td>23.61</td>\n",
       "      <td>n</td>\n",
       "      <td>f</td>\n",
       "      <td>f</td>\n",
       "      <td>d</td>\n",
       "      <td>1.0</td>\n",
       "    </tr>\n",
       "    <tr>\n",
       "      <th>16</th>\n",
       "      <td>e</td>\n",
       "      <td>7.37</td>\n",
       "      <td>x</td>\n",
       "      <td>y</td>\n",
       "      <td>f</td>\n",
       "      <td>p</td>\n",
       "      <td>y</td>\n",
       "      <td>6.51</td>\n",
       "      <td>14.90</td>\n",
       "      <td>y</td>\n",
       "      <td>t</td>\n",
       "      <td>NaN</td>\n",
       "      <td>d</td>\n",
       "      <td>0.0</td>\n",
       "    </tr>\n",
       "    <tr>\n",
       "      <th>17</th>\n",
       "      <td>p</td>\n",
       "      <td>4.06</td>\n",
       "      <td>b</td>\n",
       "      <td>n</td>\n",
       "      <td>f</td>\n",
       "      <td>NaN</td>\n",
       "      <td>w</td>\n",
       "      <td>5.98</td>\n",
       "      <td>4.57</td>\n",
       "      <td>w</td>\n",
       "      <td>f</td>\n",
       "      <td>f</td>\n",
       "      <td>d</td>\n",
       "      <td>1.0</td>\n",
       "    </tr>\n",
       "    <tr>\n",
       "      <th>...</th>\n",
       "      <td>...</td>\n",
       "      <td>...</td>\n",
       "      <td>...</td>\n",
       "      <td>...</td>\n",
       "      <td>...</td>\n",
       "      <td>...</td>\n",
       "      <td>...</td>\n",
       "      <td>...</td>\n",
       "      <td>...</td>\n",
       "      <td>...</td>\n",
       "      <td>...</td>\n",
       "      <td>...</td>\n",
       "      <td>...</td>\n",
       "      <td>...</td>\n",
       "    </tr>\n",
       "    <tr>\n",
       "      <th>61064</th>\n",
       "      <td>e</td>\n",
       "      <td>8.59</td>\n",
       "      <td>o</td>\n",
       "      <td>n</td>\n",
       "      <td>f</td>\n",
       "      <td>NaN</td>\n",
       "      <td>w</td>\n",
       "      <td>4.11</td>\n",
       "      <td>19.54</td>\n",
       "      <td>n</td>\n",
       "      <td>f</td>\n",
       "      <td>f</td>\n",
       "      <td>d</td>\n",
       "      <td>NaN</td>\n",
       "    </tr>\n",
       "    <tr>\n",
       "      <th>61065</th>\n",
       "      <td>e</td>\n",
       "      <td>7.23</td>\n",
       "      <td>s</td>\n",
       "      <td>w</td>\n",
       "      <td>f</td>\n",
       "      <td>d</td>\n",
       "      <td>p</td>\n",
       "      <td>3.56</td>\n",
       "      <td>9.42</td>\n",
       "      <td>w</td>\n",
       "      <td>f</td>\n",
       "      <td>f</td>\n",
       "      <td>d</td>\n",
       "      <td>NaN</td>\n",
       "    </tr>\n",
       "    <tr>\n",
       "      <th>61066</th>\n",
       "      <td>e</td>\n",
       "      <td>6.82</td>\n",
       "      <td>x</td>\n",
       "      <td>y</td>\n",
       "      <td>t</td>\n",
       "      <td>x</td>\n",
       "      <td>y</td>\n",
       "      <td>7.00</td>\n",
       "      <td>14.29</td>\n",
       "      <td>w</td>\n",
       "      <td>f</td>\n",
       "      <td>f</td>\n",
       "      <td>d</td>\n",
       "      <td>NaN</td>\n",
       "    </tr>\n",
       "    <tr>\n",
       "      <th>61067</th>\n",
       "      <td>p</td>\n",
       "      <td>4.51</td>\n",
       "      <td>x</td>\n",
       "      <td>n</td>\n",
       "      <td>f</td>\n",
       "      <td>s</td>\n",
       "      <td>p</td>\n",
       "      <td>6.25</td>\n",
       "      <td>9.97</td>\n",
       "      <td>w</td>\n",
       "      <td>t</td>\n",
       "      <td>z</td>\n",
       "      <td>d</td>\n",
       "      <td>NaN</td>\n",
       "    </tr>\n",
       "    <tr>\n",
       "      <th>61068</th>\n",
       "      <td>p</td>\n",
       "      <td>2.96</td>\n",
       "      <td>f</td>\n",
       "      <td>n</td>\n",
       "      <td>t</td>\n",
       "      <td>d</td>\n",
       "      <td>n</td>\n",
       "      <td>3.17</td>\n",
       "      <td>6.40</td>\n",
       "      <td>n</td>\n",
       "      <td>f</td>\n",
       "      <td>f</td>\n",
       "      <td>d</td>\n",
       "      <td>NaN</td>\n",
       "    </tr>\n",
       "  </tbody>\n",
       "</table>\n",
       "<p>26736 rows × 14 columns</p>\n",
       "</div>"
      ],
      "text/plain": [
       "      edible-poisonous  cap-diameter cap-shape cap-color does-bruise-or-bleed  \\\n",
       "9                    p          5.87         o         w                    f   \n",
       "12                   p          0.73         x         y                    f   \n",
       "13                   e          8.70         o         n                    f   \n",
       "16                   e          7.37         x         y                    f   \n",
       "17                   p          4.06         b         n                    f   \n",
       "...                ...           ...       ...       ...                  ...   \n",
       "61064                e          8.59         o         n                    f   \n",
       "61065                e          7.23         s         w                    f   \n",
       "61066                e          6.82         x         y                    t   \n",
       "61067                p          4.51         x         n                    f   \n",
       "61068                p          2.96         f         n                    t   \n",
       "\n",
       "      gill-attachment gill-color  stem-height  stem-width stem-color has-ring  \\\n",
       "9                 NaN          w         0.00        0.00          f        f   \n",
       "12                NaN          y         3.62        0.77          w        f   \n",
       "13                NaN          w         4.74       23.61          n        f   \n",
       "16                  p          y         6.51       14.90          y        t   \n",
       "17                NaN          w         5.98        4.57          w        f   \n",
       "...               ...        ...          ...         ...        ...      ...   \n",
       "61064             NaN          w         4.11       19.54          n        f   \n",
       "61065               d          p         3.56        9.42          w        f   \n",
       "61066               x          y         7.00       14.29          w        f   \n",
       "61067               s          p         6.25        9.97          w        t   \n",
       "61068               d          n         3.17        6.40          n        f   \n",
       "\n",
       "      ring-type habitat  season  \n",
       "9             f       d     0.0  \n",
       "12            f       d     1.0  \n",
       "13            f       d     1.0  \n",
       "16          NaN       d     0.0  \n",
       "17            f       d     1.0  \n",
       "...         ...     ...     ...  \n",
       "61064         f       d     NaN  \n",
       "61065         f       d     NaN  \n",
       "61066         f       d     NaN  \n",
       "61067         z       d     NaN  \n",
       "61068         f       d     NaN  \n",
       "\n",
       "[26736 rows x 14 columns]"
      ]
     },
     "execution_count": 17,
     "metadata": {},
     "output_type": "execute_result"
    }
   ],
   "source": [
    "df_null=df[pd.isnull(df).any(axis=1)]\n",
    "df_null"
   ]
  },
  {
   "cell_type": "code",
   "execution_count": 18,
   "id": "7ce0762c",
   "metadata": {},
   "outputs": [],
   "source": [
    "con1=df['cap-color']=='n'\n",
    "con2=df['cap-shape']=='o'\n",
    "\n",
    "con_1_2=df[con1 & con2]"
   ]
  },
  {
   "cell_type": "code",
   "execution_count": 19,
   "id": "87899a07",
   "metadata": {},
   "outputs": [
    {
     "data": {
      "text/html": [
       "<div>\n",
       "<style scoped>\n",
       "    .dataframe tbody tr th:only-of-type {\n",
       "        vertical-align: middle;\n",
       "    }\n",
       "\n",
       "    .dataframe tbody tr th {\n",
       "        vertical-align: top;\n",
       "    }\n",
       "\n",
       "    .dataframe thead th {\n",
       "        text-align: right;\n",
       "    }\n",
       "</style>\n",
       "<table border=\"1\" class=\"dataframe\">\n",
       "  <thead>\n",
       "    <tr style=\"text-align: right;\">\n",
       "      <th></th>\n",
       "      <th>edible-poisonous</th>\n",
       "      <th>cap-diameter</th>\n",
       "      <th>cap-shape</th>\n",
       "      <th>cap-color</th>\n",
       "      <th>does-bruise-or-bleed</th>\n",
       "      <th>gill-attachment</th>\n",
       "      <th>gill-color</th>\n",
       "      <th>stem-height</th>\n",
       "      <th>stem-width</th>\n",
       "      <th>stem-color</th>\n",
       "      <th>has-ring</th>\n",
       "      <th>ring-type</th>\n",
       "      <th>habitat</th>\n",
       "      <th>season</th>\n",
       "    </tr>\n",
       "  </thead>\n",
       "  <tbody>\n",
       "    <tr>\n",
       "      <th>13</th>\n",
       "      <td>e</td>\n",
       "      <td>8.70</td>\n",
       "      <td>o</td>\n",
       "      <td>n</td>\n",
       "      <td>f</td>\n",
       "      <td>NaN</td>\n",
       "      <td>w</td>\n",
       "      <td>4.74</td>\n",
       "      <td>23.61</td>\n",
       "      <td>n</td>\n",
       "      <td>f</td>\n",
       "      <td>f</td>\n",
       "      <td>d</td>\n",
       "      <td>1.0</td>\n",
       "    </tr>\n",
       "    <tr>\n",
       "      <th>331</th>\n",
       "      <td>e</td>\n",
       "      <td>7.92</td>\n",
       "      <td>o</td>\n",
       "      <td>n</td>\n",
       "      <td>f</td>\n",
       "      <td>NaN</td>\n",
       "      <td>w</td>\n",
       "      <td>4.11</td>\n",
       "      <td>24.45</td>\n",
       "      <td>n</td>\n",
       "      <td>f</td>\n",
       "      <td>f</td>\n",
       "      <td>d</td>\n",
       "      <td>0.0</td>\n",
       "    </tr>\n",
       "    <tr>\n",
       "      <th>681</th>\n",
       "      <td>e</td>\n",
       "      <td>8.74</td>\n",
       "      <td>o</td>\n",
       "      <td>n</td>\n",
       "      <td>f</td>\n",
       "      <td>NaN</td>\n",
       "      <td>w</td>\n",
       "      <td>4.52</td>\n",
       "      <td>21.79</td>\n",
       "      <td>n</td>\n",
       "      <td>f</td>\n",
       "      <td>f</td>\n",
       "      <td>d</td>\n",
       "      <td>0.0</td>\n",
       "    </tr>\n",
       "    <tr>\n",
       "      <th>729</th>\n",
       "      <td>e</td>\n",
       "      <td>6.54</td>\n",
       "      <td>o</td>\n",
       "      <td>n</td>\n",
       "      <td>f</td>\n",
       "      <td>NaN</td>\n",
       "      <td>w</td>\n",
       "      <td>3.81</td>\n",
       "      <td>20.88</td>\n",
       "      <td>n</td>\n",
       "      <td>f</td>\n",
       "      <td>f</td>\n",
       "      <td>d</td>\n",
       "      <td>1.0</td>\n",
       "    </tr>\n",
       "    <tr>\n",
       "      <th>935</th>\n",
       "      <td>p</td>\n",
       "      <td>4.59</td>\n",
       "      <td>o</td>\n",
       "      <td>n</td>\n",
       "      <td>f</td>\n",
       "      <td>NaN</td>\n",
       "      <td>w</td>\n",
       "      <td>0.00</td>\n",
       "      <td>0.00</td>\n",
       "      <td>f</td>\n",
       "      <td>f</td>\n",
       "      <td>f</td>\n",
       "      <td>d</td>\n",
       "      <td>1.0</td>\n",
       "    </tr>\n",
       "    <tr>\n",
       "      <th>...</th>\n",
       "      <td>...</td>\n",
       "      <td>...</td>\n",
       "      <td>...</td>\n",
       "      <td>...</td>\n",
       "      <td>...</td>\n",
       "      <td>...</td>\n",
       "      <td>...</td>\n",
       "      <td>...</td>\n",
       "      <td>...</td>\n",
       "      <td>...</td>\n",
       "      <td>...</td>\n",
       "      <td>...</td>\n",
       "      <td>...</td>\n",
       "      <td>...</td>\n",
       "    </tr>\n",
       "    <tr>\n",
       "      <th>60480</th>\n",
       "      <td>e</td>\n",
       "      <td>10.87</td>\n",
       "      <td>o</td>\n",
       "      <td>n</td>\n",
       "      <td>f</td>\n",
       "      <td>NaN</td>\n",
       "      <td>w</td>\n",
       "      <td>4.95</td>\n",
       "      <td>23.68</td>\n",
       "      <td>n</td>\n",
       "      <td>f</td>\n",
       "      <td>f</td>\n",
       "      <td>d</td>\n",
       "      <td>NaN</td>\n",
       "    </tr>\n",
       "    <tr>\n",
       "      <th>60575</th>\n",
       "      <td>e</td>\n",
       "      <td>7.92</td>\n",
       "      <td>o</td>\n",
       "      <td>n</td>\n",
       "      <td>f</td>\n",
       "      <td>NaN</td>\n",
       "      <td>w</td>\n",
       "      <td>4.38</td>\n",
       "      <td>23.00</td>\n",
       "      <td>n</td>\n",
       "      <td>f</td>\n",
       "      <td>f</td>\n",
       "      <td>d</td>\n",
       "      <td>NaN</td>\n",
       "    </tr>\n",
       "    <tr>\n",
       "      <th>60948</th>\n",
       "      <td>p</td>\n",
       "      <td>4.75</td>\n",
       "      <td>o</td>\n",
       "      <td>n</td>\n",
       "      <td>f</td>\n",
       "      <td>NaN</td>\n",
       "      <td>w</td>\n",
       "      <td>0.00</td>\n",
       "      <td>0.00</td>\n",
       "      <td>f</td>\n",
       "      <td>f</td>\n",
       "      <td>f</td>\n",
       "      <td>d</td>\n",
       "      <td>NaN</td>\n",
       "    </tr>\n",
       "    <tr>\n",
       "      <th>60973</th>\n",
       "      <td>p</td>\n",
       "      <td>5.65</td>\n",
       "      <td>o</td>\n",
       "      <td>n</td>\n",
       "      <td>f</td>\n",
       "      <td>NaN</td>\n",
       "      <td>w</td>\n",
       "      <td>0.00</td>\n",
       "      <td>0.00</td>\n",
       "      <td>f</td>\n",
       "      <td>f</td>\n",
       "      <td>f</td>\n",
       "      <td>d</td>\n",
       "      <td>NaN</td>\n",
       "    </tr>\n",
       "    <tr>\n",
       "      <th>61064</th>\n",
       "      <td>e</td>\n",
       "      <td>8.59</td>\n",
       "      <td>o</td>\n",
       "      <td>n</td>\n",
       "      <td>f</td>\n",
       "      <td>NaN</td>\n",
       "      <td>w</td>\n",
       "      <td>4.11</td>\n",
       "      <td>19.54</td>\n",
       "      <td>n</td>\n",
       "      <td>f</td>\n",
       "      <td>f</td>\n",
       "      <td>d</td>\n",
       "      <td>NaN</td>\n",
       "    </tr>\n",
       "  </tbody>\n",
       "</table>\n",
       "<p>345 rows × 14 columns</p>\n",
       "</div>"
      ],
      "text/plain": [
       "      edible-poisonous  cap-diameter cap-shape cap-color does-bruise-or-bleed  \\\n",
       "13                   e          8.70         o         n                    f   \n",
       "331                  e          7.92         o         n                    f   \n",
       "681                  e          8.74         o         n                    f   \n",
       "729                  e          6.54         o         n                    f   \n",
       "935                  p          4.59         o         n                    f   \n",
       "...                ...           ...       ...       ...                  ...   \n",
       "60480                e         10.87         o         n                    f   \n",
       "60575                e          7.92         o         n                    f   \n",
       "60948                p          4.75         o         n                    f   \n",
       "60973                p          5.65         o         n                    f   \n",
       "61064                e          8.59         o         n                    f   \n",
       "\n",
       "      gill-attachment gill-color  stem-height  stem-width stem-color has-ring  \\\n",
       "13                NaN          w         4.74       23.61          n        f   \n",
       "331               NaN          w         4.11       24.45          n        f   \n",
       "681               NaN          w         4.52       21.79          n        f   \n",
       "729               NaN          w         3.81       20.88          n        f   \n",
       "935               NaN          w         0.00        0.00          f        f   \n",
       "...               ...        ...          ...         ...        ...      ...   \n",
       "60480             NaN          w         4.95       23.68          n        f   \n",
       "60575             NaN          w         4.38       23.00          n        f   \n",
       "60948             NaN          w         0.00        0.00          f        f   \n",
       "60973             NaN          w         0.00        0.00          f        f   \n",
       "61064             NaN          w         4.11       19.54          n        f   \n",
       "\n",
       "      ring-type habitat  season  \n",
       "13            f       d     1.0  \n",
       "331           f       d     0.0  \n",
       "681           f       d     0.0  \n",
       "729           f       d     1.0  \n",
       "935           f       d     1.0  \n",
       "...         ...     ...     ...  \n",
       "60480         f       d     NaN  \n",
       "60575         f       d     NaN  \n",
       "60948         f       d     NaN  \n",
       "60973         f       d     NaN  \n",
       "61064         f       d     NaN  \n",
       "\n",
       "[345 rows x 14 columns]"
      ]
     },
     "execution_count": 19,
     "metadata": {},
     "output_type": "execute_result"
    }
   ],
   "source": [
    "con3=df['gill-color']=='w'\n",
    "con1_2_3=df[con1 & con2 & con3]\n",
    "con1_2_3"
   ]
  },
  {
   "cell_type": "code",
   "execution_count": 20,
   "id": "9eae0a1c",
   "metadata": {},
   "outputs": [
    {
     "data": {
      "text/html": [
       "<div>\n",
       "<style scoped>\n",
       "    .dataframe tbody tr th:only-of-type {\n",
       "        vertical-align: middle;\n",
       "    }\n",
       "\n",
       "    .dataframe tbody tr th {\n",
       "        vertical-align: top;\n",
       "    }\n",
       "\n",
       "    .dataframe thead th {\n",
       "        text-align: right;\n",
       "    }\n",
       "</style>\n",
       "<table border=\"1\" class=\"dataframe\">\n",
       "  <thead>\n",
       "    <tr style=\"text-align: right;\">\n",
       "      <th></th>\n",
       "      <th>edible-poisonous</th>\n",
       "      <th>cap-diameter</th>\n",
       "      <th>cap-shape</th>\n",
       "      <th>cap-color</th>\n",
       "      <th>does-bruise-or-bleed</th>\n",
       "      <th>gill-attachment</th>\n",
       "      <th>gill-color</th>\n",
       "      <th>stem-height</th>\n",
       "      <th>stem-width</th>\n",
       "      <th>stem-color</th>\n",
       "      <th>has-ring</th>\n",
       "      <th>ring-type</th>\n",
       "      <th>habitat</th>\n",
       "      <th>season</th>\n",
       "    </tr>\n",
       "  </thead>\n",
       "  <tbody>\n",
       "    <tr>\n",
       "      <th>1</th>\n",
       "      <td>p</td>\n",
       "      <td>2.27</td>\n",
       "      <td>o</td>\n",
       "      <td>g</td>\n",
       "      <td>f</td>\n",
       "      <td>f</td>\n",
       "      <td>f</td>\n",
       "      <td>0.00</td>\n",
       "      <td>0.00</td>\n",
       "      <td>f</td>\n",
       "      <td>f</td>\n",
       "      <td>f</td>\n",
       "      <td>d</td>\n",
       "      <td>3.0</td>\n",
       "    </tr>\n",
       "    <tr>\n",
       "      <th>8</th>\n",
       "      <td>p</td>\n",
       "      <td>1.82</td>\n",
       "      <td>b</td>\n",
       "      <td>n</td>\n",
       "      <td>f</td>\n",
       "      <td>a</td>\n",
       "      <td>g</td>\n",
       "      <td>5.26</td>\n",
       "      <td>2.05</td>\n",
       "      <td>n</td>\n",
       "      <td>f</td>\n",
       "      <td>f</td>\n",
       "      <td>d</td>\n",
       "      <td>1.0</td>\n",
       "    </tr>\n",
       "    <tr>\n",
       "      <th>9</th>\n",
       "      <td>p</td>\n",
       "      <td>5.87</td>\n",
       "      <td>o</td>\n",
       "      <td>w</td>\n",
       "      <td>f</td>\n",
       "      <td>NaN</td>\n",
       "      <td>w</td>\n",
       "      <td>0.00</td>\n",
       "      <td>0.00</td>\n",
       "      <td>f</td>\n",
       "      <td>f</td>\n",
       "      <td>f</td>\n",
       "      <td>d</td>\n",
       "      <td>0.0</td>\n",
       "    </tr>\n",
       "    <tr>\n",
       "      <th>13</th>\n",
       "      <td>e</td>\n",
       "      <td>8.70</td>\n",
       "      <td>o</td>\n",
       "      <td>n</td>\n",
       "      <td>f</td>\n",
       "      <td>NaN</td>\n",
       "      <td>w</td>\n",
       "      <td>4.74</td>\n",
       "      <td>23.61</td>\n",
       "      <td>n</td>\n",
       "      <td>f</td>\n",
       "      <td>f</td>\n",
       "      <td>d</td>\n",
       "      <td>1.0</td>\n",
       "    </tr>\n",
       "    <tr>\n",
       "      <th>15</th>\n",
       "      <td>p</td>\n",
       "      <td>3.49</td>\n",
       "      <td>x</td>\n",
       "      <td>w</td>\n",
       "      <td>f</td>\n",
       "      <td>x</td>\n",
       "      <td>p</td>\n",
       "      <td>7.40</td>\n",
       "      <td>3.98</td>\n",
       "      <td>n</td>\n",
       "      <td>f</td>\n",
       "      <td>f</td>\n",
       "      <td>l</td>\n",
       "      <td>1.0</td>\n",
       "    </tr>\n",
       "    <tr>\n",
       "      <th>...</th>\n",
       "      <td>...</td>\n",
       "      <td>...</td>\n",
       "      <td>...</td>\n",
       "      <td>...</td>\n",
       "      <td>...</td>\n",
       "      <td>...</td>\n",
       "      <td>...</td>\n",
       "      <td>...</td>\n",
       "      <td>...</td>\n",
       "      <td>...</td>\n",
       "      <td>...</td>\n",
       "      <td>...</td>\n",
       "      <td>...</td>\n",
       "      <td>...</td>\n",
       "    </tr>\n",
       "    <tr>\n",
       "      <th>61053</th>\n",
       "      <td>p</td>\n",
       "      <td>1.45</td>\n",
       "      <td>o</td>\n",
       "      <td>n</td>\n",
       "      <td>f</td>\n",
       "      <td>NaN</td>\n",
       "      <td>n</td>\n",
       "      <td>3.12</td>\n",
       "      <td>1.31</td>\n",
       "      <td>n</td>\n",
       "      <td>f</td>\n",
       "      <td>f</td>\n",
       "      <td>d</td>\n",
       "      <td>NaN</td>\n",
       "    </tr>\n",
       "    <tr>\n",
       "      <th>61061</th>\n",
       "      <td>p</td>\n",
       "      <td>20.14</td>\n",
       "      <td>x</td>\n",
       "      <td>o</td>\n",
       "      <td>f</td>\n",
       "      <td>p</td>\n",
       "      <td>y</td>\n",
       "      <td>5.81</td>\n",
       "      <td>39.53</td>\n",
       "      <td>n</td>\n",
       "      <td>f</td>\n",
       "      <td>f</td>\n",
       "      <td>d</td>\n",
       "      <td>NaN</td>\n",
       "    </tr>\n",
       "    <tr>\n",
       "      <th>61062</th>\n",
       "      <td>p</td>\n",
       "      <td>5.34</td>\n",
       "      <td>s</td>\n",
       "      <td>n</td>\n",
       "      <td>t</td>\n",
       "      <td>d</td>\n",
       "      <td>b</td>\n",
       "      <td>5.08</td>\n",
       "      <td>5.70</td>\n",
       "      <td>n</td>\n",
       "      <td>f</td>\n",
       "      <td>f</td>\n",
       "      <td>d</td>\n",
       "      <td>NaN</td>\n",
       "    </tr>\n",
       "    <tr>\n",
       "      <th>61064</th>\n",
       "      <td>e</td>\n",
       "      <td>8.59</td>\n",
       "      <td>o</td>\n",
       "      <td>n</td>\n",
       "      <td>f</td>\n",
       "      <td>NaN</td>\n",
       "      <td>w</td>\n",
       "      <td>4.11</td>\n",
       "      <td>19.54</td>\n",
       "      <td>n</td>\n",
       "      <td>f</td>\n",
       "      <td>f</td>\n",
       "      <td>d</td>\n",
       "      <td>NaN</td>\n",
       "    </tr>\n",
       "    <tr>\n",
       "      <th>61068</th>\n",
       "      <td>p</td>\n",
       "      <td>2.96</td>\n",
       "      <td>f</td>\n",
       "      <td>n</td>\n",
       "      <td>t</td>\n",
       "      <td>d</td>\n",
       "      <td>n</td>\n",
       "      <td>3.17</td>\n",
       "      <td>6.40</td>\n",
       "      <td>n</td>\n",
       "      <td>f</td>\n",
       "      <td>f</td>\n",
       "      <td>d</td>\n",
       "      <td>NaN</td>\n",
       "    </tr>\n",
       "  </tbody>\n",
       "</table>\n",
       "<p>19122 rows × 14 columns</p>\n",
       "</div>"
      ],
      "text/plain": [
       "      edible-poisonous  cap-diameter cap-shape cap-color does-bruise-or-bleed  \\\n",
       "1                    p          2.27         o         g                    f   \n",
       "8                    p          1.82         b         n                    f   \n",
       "9                    p          5.87         o         w                    f   \n",
       "13                   e          8.70         o         n                    f   \n",
       "15                   p          3.49         x         w                    f   \n",
       "...                ...           ...       ...       ...                  ...   \n",
       "61053                p          1.45         o         n                    f   \n",
       "61061                p         20.14         x         o                    f   \n",
       "61062                p          5.34         s         n                    t   \n",
       "61064                e          8.59         o         n                    f   \n",
       "61068                p          2.96         f         n                    t   \n",
       "\n",
       "      gill-attachment gill-color  stem-height  stem-width stem-color has-ring  \\\n",
       "1                   f          f         0.00        0.00          f        f   \n",
       "8                   a          g         5.26        2.05          n        f   \n",
       "9                 NaN          w         0.00        0.00          f        f   \n",
       "13                NaN          w         4.74       23.61          n        f   \n",
       "15                  x          p         7.40        3.98          n        f   \n",
       "...               ...        ...          ...         ...        ...      ...   \n",
       "61053             NaN          n         3.12        1.31          n        f   \n",
       "61061               p          y         5.81       39.53          n        f   \n",
       "61062               d          b         5.08        5.70          n        f   \n",
       "61064             NaN          w         4.11       19.54          n        f   \n",
       "61068               d          n         3.17        6.40          n        f   \n",
       "\n",
       "      ring-type habitat  season  \n",
       "1             f       d     3.0  \n",
       "8             f       d     1.0  \n",
       "9             f       d     0.0  \n",
       "13            f       d     1.0  \n",
       "15            f       l     1.0  \n",
       "...         ...     ...     ...  \n",
       "61053         f       d     NaN  \n",
       "61061         f       d     NaN  \n",
       "61062         f       d     NaN  \n",
       "61064         f       d     NaN  \n",
       "61068         f       d     NaN  \n",
       "\n",
       "[19122 rows x 14 columns]"
      ]
     },
     "execution_count": 20,
     "metadata": {},
     "output_type": "execute_result"
    }
   ],
   "source": [
    "con4=df['stem-color']=='n'\n",
    "con5=df['stem-color']=='f'\n",
    "df[con4 | con5]"
   ]
  },
  {
   "cell_type": "code",
   "execution_count": 21,
   "id": "6f328f22",
   "metadata": {
    "scrolled": true
   },
   "outputs": [
    {
     "data": {
      "text/html": [
       "<div>\n",
       "<style scoped>\n",
       "    .dataframe tbody tr th:only-of-type {\n",
       "        vertical-align: middle;\n",
       "    }\n",
       "\n",
       "    .dataframe tbody tr th {\n",
       "        vertical-align: top;\n",
       "    }\n",
       "\n",
       "    .dataframe thead th {\n",
       "        text-align: right;\n",
       "    }\n",
       "</style>\n",
       "<table border=\"1\" class=\"dataframe\">\n",
       "  <thead>\n",
       "    <tr style=\"text-align: right;\">\n",
       "      <th></th>\n",
       "      <th>edible-poisonous</th>\n",
       "      <th>cap-diameter</th>\n",
       "      <th>cap-shape</th>\n",
       "      <th>cap-color</th>\n",
       "      <th>does-bruise-or-bleed</th>\n",
       "      <th>gill-attachment</th>\n",
       "      <th>gill-color</th>\n",
       "      <th>stem-height</th>\n",
       "      <th>stem-width</th>\n",
       "      <th>stem-color</th>\n",
       "      <th>has-ring</th>\n",
       "      <th>ring-type</th>\n",
       "      <th>habitat</th>\n",
       "      <th>season</th>\n",
       "    </tr>\n",
       "  </thead>\n",
       "  <tbody>\n",
       "    <tr>\n",
       "      <th>16</th>\n",
       "      <td>e</td>\n",
       "      <td>7.37</td>\n",
       "      <td>x</td>\n",
       "      <td>y</td>\n",
       "      <td>f</td>\n",
       "      <td>p</td>\n",
       "      <td>y</td>\n",
       "      <td>6.51</td>\n",
       "      <td>14.90</td>\n",
       "      <td>y</td>\n",
       "      <td>t</td>\n",
       "      <td>NaN</td>\n",
       "      <td>d</td>\n",
       "      <td>0.0</td>\n",
       "    </tr>\n",
       "    <tr>\n",
       "      <th>18</th>\n",
       "      <td>e</td>\n",
       "      <td>7.81</td>\n",
       "      <td>x</td>\n",
       "      <td>y</td>\n",
       "      <td>f</td>\n",
       "      <td>p</td>\n",
       "      <td>y</td>\n",
       "      <td>7.78</td>\n",
       "      <td>15.16</td>\n",
       "      <td>y</td>\n",
       "      <td>t</td>\n",
       "      <td>NaN</td>\n",
       "      <td>d</td>\n",
       "      <td>1.0</td>\n",
       "    </tr>\n",
       "    <tr>\n",
       "      <th>24</th>\n",
       "      <td>e</td>\n",
       "      <td>8.36</td>\n",
       "      <td>f</td>\n",
       "      <td>n</td>\n",
       "      <td>f</td>\n",
       "      <td>d</td>\n",
       "      <td>w</td>\n",
       "      <td>7.60</td>\n",
       "      <td>15.28</td>\n",
       "      <td>n</td>\n",
       "      <td>t</td>\n",
       "      <td>NaN</td>\n",
       "      <td>d</td>\n",
       "      <td>2.0</td>\n",
       "    </tr>\n",
       "    <tr>\n",
       "      <th>54</th>\n",
       "      <td>p</td>\n",
       "      <td>4.57</td>\n",
       "      <td>b</td>\n",
       "      <td>n</td>\n",
       "      <td>f</td>\n",
       "      <td>NaN</td>\n",
       "      <td>k</td>\n",
       "      <td>8.89</td>\n",
       "      <td>6.23</td>\n",
       "      <td>w</td>\n",
       "      <td>t</td>\n",
       "      <td>NaN</td>\n",
       "      <td>g</td>\n",
       "      <td>2.0</td>\n",
       "    </tr>\n",
       "    <tr>\n",
       "      <th>61</th>\n",
       "      <td>p</td>\n",
       "      <td>9.92</td>\n",
       "      <td>x</td>\n",
       "      <td>n</td>\n",
       "      <td>f</td>\n",
       "      <td>a</td>\n",
       "      <td>y</td>\n",
       "      <td>11.47</td>\n",
       "      <td>12.73</td>\n",
       "      <td>n</td>\n",
       "      <td>t</td>\n",
       "      <td>NaN</td>\n",
       "      <td>d</td>\n",
       "      <td>1.0</td>\n",
       "    </tr>\n",
       "  </tbody>\n",
       "</table>\n",
       "</div>"
      ],
      "text/plain": [
       "   edible-poisonous  cap-diameter cap-shape cap-color does-bruise-or-bleed  \\\n",
       "16                e          7.37         x         y                    f   \n",
       "18                e          7.81         x         y                    f   \n",
       "24                e          8.36         f         n                    f   \n",
       "54                p          4.57         b         n                    f   \n",
       "61                p          9.92         x         n                    f   \n",
       "\n",
       "   gill-attachment gill-color  stem-height  stem-width stem-color has-ring  \\\n",
       "16               p          y         6.51       14.90          y        t   \n",
       "18               p          y         7.78       15.16          y        t   \n",
       "24               d          w         7.60       15.28          n        t   \n",
       "54             NaN          k         8.89        6.23          w        t   \n",
       "61               a          y        11.47       12.73          n        t   \n",
       "\n",
       "   ring-type habitat  season  \n",
       "16       NaN       d     0.0  \n",
       "18       NaN       d     1.0  \n",
       "24       NaN       d     2.0  \n",
       "54       NaN       g     2.0  \n",
       "61       NaN       d     1.0  "
      ]
     },
     "execution_count": 21,
     "metadata": {},
     "output_type": "execute_result"
    }
   ],
   "source": [
    "rg_tp=df[pd.isnull(df['ring-type'])]\n",
    "rg_tp.head()"
   ]
  },
  {
   "cell_type": "code",
   "execution_count": 22,
   "id": "cb0868c4",
   "metadata": {
    "scrolled": true
   },
   "outputs": [
    {
     "data": {
      "text/plain": [
       "353"
      ]
     },
     "execution_count": 22,
     "metadata": {},
     "output_type": "execute_result"
    }
   ],
   "source": [
    "rg_tp['gill-attachment'].isnull().sum()"
   ]
  },
  {
   "cell_type": "code",
   "execution_count": 23,
   "id": "1032f467",
   "metadata": {},
   "outputs": [
    {
     "data": {
      "text/plain": [
       "d    1762\n",
       "g     709\n",
       "Name: habitat, dtype: int64"
      ]
     },
     "execution_count": 23,
     "metadata": {},
     "output_type": "execute_result"
    }
   ],
   "source": [
    "rg_tp['habitat'].value_counts()"
   ]
  },
  {
   "cell_type": "code",
   "execution_count": 24,
   "id": "4d503208",
   "metadata": {},
   "outputs": [
    {
     "data": {
      "text/plain": [
       "f    45890\n",
       "t    15179\n",
       "Name: has-ring, dtype: int64"
      ]
     },
     "execution_count": 24,
     "metadata": {},
     "output_type": "execute_result"
    }
   ],
   "source": [
    "df['has-ring'].value_counts()"
   ]
  },
  {
   "cell_type": "code",
   "execution_count": 25,
   "id": "bac358f4",
   "metadata": {},
   "outputs": [],
   "source": [
    "tr=df[df['has-ring']=='t']"
   ]
  },
  {
   "cell_type": "code",
   "execution_count": 26,
   "id": "9ce0424f",
   "metadata": {},
   "outputs": [
    {
     "data": {
      "text/html": [
       "<div>\n",
       "<style scoped>\n",
       "    .dataframe tbody tr th:only-of-type {\n",
       "        vertical-align: middle;\n",
       "    }\n",
       "\n",
       "    .dataframe tbody tr th {\n",
       "        vertical-align: top;\n",
       "    }\n",
       "\n",
       "    .dataframe thead th {\n",
       "        text-align: right;\n",
       "    }\n",
       "</style>\n",
       "<table border=\"1\" class=\"dataframe\">\n",
       "  <thead>\n",
       "    <tr style=\"text-align: right;\">\n",
       "      <th></th>\n",
       "      <th>edible-poisonous</th>\n",
       "      <th>cap-diameter</th>\n",
       "      <th>cap-shape</th>\n",
       "      <th>cap-color</th>\n",
       "      <th>does-bruise-or-bleed</th>\n",
       "      <th>gill-attachment</th>\n",
       "      <th>gill-color</th>\n",
       "      <th>stem-height</th>\n",
       "      <th>stem-width</th>\n",
       "      <th>stem-color</th>\n",
       "      <th>has-ring</th>\n",
       "      <th>ring-type</th>\n",
       "      <th>habitat</th>\n",
       "      <th>season</th>\n",
       "    </tr>\n",
       "  </thead>\n",
       "  <tbody>\n",
       "    <tr>\n",
       "      <th>5</th>\n",
       "      <td>e</td>\n",
       "      <td>9.24</td>\n",
       "      <td>x</td>\n",
       "      <td>n</td>\n",
       "      <td>t</td>\n",
       "      <td>e</td>\n",
       "      <td>p</td>\n",
       "      <td>8.52</td>\n",
       "      <td>17.52</td>\n",
       "      <td>w</td>\n",
       "      <td>t</td>\n",
       "      <td>p</td>\n",
       "      <td>l</td>\n",
       "      <td>0.0</td>\n",
       "    </tr>\n",
       "    <tr>\n",
       "      <th>16</th>\n",
       "      <td>e</td>\n",
       "      <td>7.37</td>\n",
       "      <td>x</td>\n",
       "      <td>y</td>\n",
       "      <td>f</td>\n",
       "      <td>p</td>\n",
       "      <td>y</td>\n",
       "      <td>6.51</td>\n",
       "      <td>14.90</td>\n",
       "      <td>y</td>\n",
       "      <td>t</td>\n",
       "      <td>NaN</td>\n",
       "      <td>d</td>\n",
       "      <td>0.0</td>\n",
       "    </tr>\n",
       "    <tr>\n",
       "      <th>18</th>\n",
       "      <td>e</td>\n",
       "      <td>7.81</td>\n",
       "      <td>x</td>\n",
       "      <td>y</td>\n",
       "      <td>f</td>\n",
       "      <td>p</td>\n",
       "      <td>y</td>\n",
       "      <td>7.78</td>\n",
       "      <td>15.16</td>\n",
       "      <td>y</td>\n",
       "      <td>t</td>\n",
       "      <td>NaN</td>\n",
       "      <td>d</td>\n",
       "      <td>1.0</td>\n",
       "    </tr>\n",
       "    <tr>\n",
       "      <th>24</th>\n",
       "      <td>e</td>\n",
       "      <td>8.36</td>\n",
       "      <td>f</td>\n",
       "      <td>n</td>\n",
       "      <td>f</td>\n",
       "      <td>d</td>\n",
       "      <td>w</td>\n",
       "      <td>7.60</td>\n",
       "      <td>15.28</td>\n",
       "      <td>n</td>\n",
       "      <td>t</td>\n",
       "      <td>NaN</td>\n",
       "      <td>d</td>\n",
       "      <td>2.0</td>\n",
       "    </tr>\n",
       "    <tr>\n",
       "      <th>27</th>\n",
       "      <td>p</td>\n",
       "      <td>11.21</td>\n",
       "      <td>s</td>\n",
       "      <td>p</td>\n",
       "      <td>t</td>\n",
       "      <td>d</td>\n",
       "      <td>p</td>\n",
       "      <td>8.43</td>\n",
       "      <td>15.04</td>\n",
       "      <td>p</td>\n",
       "      <td>t</td>\n",
       "      <td>f</td>\n",
       "      <td>d</td>\n",
       "      <td>1.0</td>\n",
       "    </tr>\n",
       "  </tbody>\n",
       "</table>\n",
       "</div>"
      ],
      "text/plain": [
       "   edible-poisonous  cap-diameter cap-shape cap-color does-bruise-or-bleed  \\\n",
       "5                 e          9.24         x         n                    t   \n",
       "16                e          7.37         x         y                    f   \n",
       "18                e          7.81         x         y                    f   \n",
       "24                e          8.36         f         n                    f   \n",
       "27                p         11.21         s         p                    t   \n",
       "\n",
       "   gill-attachment gill-color  stem-height  stem-width stem-color has-ring  \\\n",
       "5                e          p         8.52       17.52          w        t   \n",
       "16               p          y         6.51       14.90          y        t   \n",
       "18               p          y         7.78       15.16          y        t   \n",
       "24               d          w         7.60       15.28          n        t   \n",
       "27               d          p         8.43       15.04          p        t   \n",
       "\n",
       "   ring-type habitat  season  \n",
       "5          p       l     0.0  \n",
       "16       NaN       d     0.0  \n",
       "18       NaN       d     1.0  \n",
       "24       NaN       d     2.0  \n",
       "27         f       d     1.0  "
      ]
     },
     "execution_count": 26,
     "metadata": {},
     "output_type": "execute_result"
    }
   ],
   "source": [
    "tr.head()"
   ]
  },
  {
   "cell_type": "code",
   "execution_count": 27,
   "id": "2d932aee",
   "metadata": {},
   "outputs": [],
   "source": [
    "df_n=df.copy()\n",
    "df_n['gill-attachment']=df_n['gill-attachment'].fillna('Unknown')\n",
    "df_n['ring-type']=df_n['ring-type'].fillna('unk')"
   ]
  },
  {
   "cell_type": "code",
   "execution_count": 28,
   "id": "8ba8a15a",
   "metadata": {},
   "outputs": [
    {
     "data": {
      "text/plain": [
       "<AxesSubplot:xlabel='gill-attachment'>"
      ]
     },
     "execution_count": 28,
     "metadata": {},
     "output_type": "execute_result"
    },
    {
     "data": {
      "image/png": "[encoded data removed]",
      "text/plain": [
       "<Figure size 432x288 with 1 Axes>"
      ]
     },
     "metadata": {
      "needs_background": "light"
     },
     "output_type": "display_data"
    }
   ],
   "source": [
    "df_n.groupby('gill-attachment').agg({'cap-diameter':['mean'],'stem-height':['mean'],'stem-width':['mean']}).plot(kind='bar')"
   ]
  },
  {
   "cell_type": "markdown",
   "id": "c55a17c2",
   "metadata": {},
   "source": [
    "##### Ring_type"
   ]
  },
  {
   "cell_type": "code",
   "execution_count": 29,
   "id": "c9f533b1",
   "metadata": {},
   "outputs": [
    {
     "data": {
      "text/plain": [
       "<AxesSubplot:xlabel='ring-type'>"
      ]
     },
     "execution_count": 29,
     "metadata": {},
     "output_type": "execute_result"
    },
    {
     "data": {
      "image/png": "[encoded data removed]",
      "text/plain": [
       "<Figure size 432x288 with 1 Axes>"
      ]
     },
     "metadata": {
      "needs_background": "light"
     },
     "output_type": "display_data"
    }
   ],
   "source": [
    "df_n.groupby('ring-type').agg({'cap-diameter':['mean'],'stem-height':['mean'],'stem-width':['mean']}).plot(kind='bar')"
   ]
  },
  {
   "cell_type": "markdown",
   "id": "11c471cf",
   "metadata": {},
   "source": [
    "###### From above we cannot able to understand the pattern"
   ]
  },
  {
   "cell_type": "code",
   "execution_count": 30,
   "id": "5a235a92",
   "metadata": {
    "scrolled": true
   },
   "outputs": [],
   "source": [
    "df1=df.copy()"
   ]
  },
  {
   "cell_type": "code",
   "execution_count": 31,
   "id": "e0af502a",
   "metadata": {
    "scrolled": false
   },
   "outputs": [
    {
     "data": {
      "image/png": "[encoded data removed]",
      "text/plain": [
       "<Figure size 432x288 with 1 Axes>"
      ]
     },
     "metadata": {
      "needs_background": "light"
     },
     "output_type": "display_data"
    }
   ],
   "source": [
    "#filling the null values by using back fill method\n",
    "df1['gill-attachment']=df1['gill-attachment'].fillna(method='bfill')\n",
    "\n",
    "#creating a data frame of value_count for gill-attachment from df and df1\n",
    "\n",
    "z_g=pd.DataFrame(df['gill-attachment'].value_counts(),columns=['gill-attachment']).reset_index()\n",
    "z1_g=pd.DataFrame(df1['gill-attachment'].value_counts(),columns=['gill-attachment']).reset_index()\n",
    "#merging both table on index\n",
    "\n",
    "z_z1_g=pd.merge(z_g,z1_g,on='index')\n",
    "#creating a column ratio for both gill-attachment to get a comparison \n",
    "\n",
    "z_z1_g['ratio_gx']=(z_z1_g['gill-attachment_x']/z_z1_g['gill-attachment_x'].sum())*100\n",
    "z_z1_g['ratio_gy']=(z_z1_g['gill-attachment_y']/z_z1_g['gill-attachment_y'].sum())*100\n",
    "#plotting a bar plot for comparrison\n",
    "\n",
    "z_z1_g.plot(x=\"index\", y=[\"ratio_gx\", \"ratio_gy\"], kind=\"bar\")\n",
    "plt.show()"
   ]
  },
  {
   "cell_type": "code",
   "execution_count": 32,
   "id": "f1e5d52b",
   "metadata": {},
   "outputs": [
    {
     "data": {
      "image/png": "[encoded data removed]",
      "text/plain": [
       "<Figure size 432x288 with 1 Axes>"
      ]
     },
     "metadata": {
      "needs_background": "light"
     },
     "output_type": "display_data"
    }
   ],
   "source": [
    "#filling the null values by using back fill method\n",
    "df1['ring-type']=df1['ring-type'].fillna(method='bfill')\n",
    "\n",
    "#creating a data frame of value_count for gill-attachment from df and df1\n",
    "z=pd.DataFrame(df['ring-type'].value_counts(),columns=['ring-type']).reset_index()\n",
    "z1=pd.DataFrame(df1['ring-type'].value_counts(),columns=['ring-type']).reset_index()\n",
    "\n",
    "#merging both table on index column\n",
    "z_z1=pd.merge(z,z1,on='index')\n",
    "\n",
    "#creating a column ratio for both gill-attachment columns to get a comparison\n",
    "z_z1['ratio_rx']=(z_z1['ring-type_x']/z_z1['ring-type_x'].sum())*100\n",
    "z_z1['ratio_ry']=(z_z1['ring-type_y']/z_z1['ring-type_y'].sum())*100\n",
    "\n",
    "#plotting a bar plot for comparrison\n",
    "z_z1.plot(x=\"index\", y=[\"ratio_rx\", \"ratio_ry\"], kind=\"bar\")\n",
    "plt.show()"
   ]
  },
  {
   "cell_type": "markdown",
   "id": "3ca2173e",
   "metadata": {},
   "source": [
    "#### Ratio of gill attachment column  and ring type column maintained throughout the null value filling"
   ]
  },
  {
   "cell_type": "markdown",
   "id": "d035e592",
   "metadata": {},
   "source": [
    "### EDA"
   ]
  },
  {
   "cell_type": "code",
   "execution_count": 33,
   "id": "60ce9af9",
   "metadata": {},
   "outputs": [],
   "source": [
    "#making some function helpfull in EDA\n",
    "\n",
    "# visualize the columns according to their data types\n",
    "def plot(df,col):\n",
    "    '''\n",
    "    where df  = name of the dataframe\n",
    "          col = name of the column\n",
    "          \n",
    "    required packages Pandas,matplotlib.pyplot and seaborn\n",
    "    \n",
    "    above function will give summary of the columns acoorrding to the data type.\n",
    "    '''   \n",
    "    #storing the column name and its data types in dictionary\n",
    "    c={col:df[col].dtypes}\n",
    "    \n",
    "    #using key and value relation of dictionary plotting results\n",
    "    print('------------------------------------------------------------------------------------------')\n",
    "    if c[col]=='O':\n",
    "        print('The feature is {} and number of categories are {}'.format(col,(df[col].nunique())))\n",
    "        print('Value_count \\n{}'.format(df[col].value_counts()))\n",
    "        sns.countplot(df[col])\n",
    "        plt.title(\"{} count plot\".format(col))\n",
    "        plt.show()\n",
    "    else :\n",
    "        print('summary of column {} \\n{}'.format(col,df[col].describe()))\n",
    "        sns.displot(x=df[col], data=df)\n",
    "        plt.title(\"{} distribution chart\".format(col))\n",
    "        plt.show()\n",
    "    print('------------------------------------------------------------------------------------------')    \n",
    "    \n",
    "#function for visualizing percentile\n",
    "def perc(x,y):    \n",
    "    \"\"\"\n",
    "    where x = dataframe with column name\n",
    "          y=  column name\n",
    "    require packages pandas and matplotlib.pyplot\n",
    "    \"\"\"\n",
    "    #Creating the dataframe for percentiles \n",
    "    q=pd.DataFrame(x.describe(percentiles=[.01,.02,.03,.04,.05,.1,.15,.2,.25,.3,.35,.4,.45,.5,.55,.6,.65,.7,.75,.8,.85,.9,.95,.96,.97,.98,.99]))\n",
    "    \n",
    "    #Re-seting the index \n",
    "    q.reset_index(inplace=True)\n",
    "\n",
    "    #Renaming column\n",
    "    q.set_axis(['variables', y],inplace=True,axis=1)\n",
    "\n",
    "    #Dropping the first row as it contain no. of observation only\n",
    "    q.drop(labels=[0],axis=0,inplace=True)\n",
    "\n",
    "    #Again reset the index\n",
    "    q.reset_index(inplace=True)\n",
    "\n",
    "    #dropping the unnecesary column\n",
    "    q.drop(columns=[\"index\"],inplace=True)\n",
    "\n",
    "    #Visualizating the percentile with column \n",
    "    plt.figure(figsize=(8,6))\n",
    "    plt.rcParams.update({'font.size': 14})# setting font size to 14\n",
    "    plt.plot(q[\"variables\"], q[y],color=\"red\", marker=\"o\")\n",
    "    plt.xlabel(\"percentile\",color=\"blue\")\n",
    "    plt.xticks(rotation ='vertical')\n",
    "    plt.ylabel(y,color=\"green\")\n",
    "    plt.title(\"{} with mean,standard deviation and percentile distribution\".format(y))\n",
    "    plt.show()\n",
    "    \n",
    "#creating function for chi-square hypothesis test\n",
    "def hypo_chi(x,y,z,i):\n",
    "    \"\"\"\n",
    "    x=data_name[\"column1\"]\n",
    "    \n",
    "    y=data_name[\"column2\"]\n",
    "    \n",
    "    i=pvalue means if pvalue = .05 means confidence level is 95%\n",
    "    \n",
    "    required packages pandas and scipy.stats\n",
    "    \n",
    "    \"\"\"\n",
    "    print('Stating Hypothesis and confidence level:-')\n",
    "    print('Ho: There is no relationship between {} & {}'.format(y,z))\n",
    "    print('Ha: There is relationship/associativity between {} & {}'.format(y,z))\n",
    "    print('confidence level= {}%'.format((1-i)*100))\n",
    "    print('-------------------=-------------------')\n",
    "    ob=pd.crosstab(x[y],x[z]) \n",
    "    calc_chisquare, pvalue, df, E=sp.chi2_contingency(ob)\n",
    "    print('Result')\n",
    "    if pvalue<i:\n",
    "        print(\"We fail to accept Null Hypothesis(Ho) as p value {} is very low\".format(pvalue))\n",
    "    else:\n",
    "        print(\"We accept Null Hypothesis(Ho) as p value {} is good enough\".format(pvalue))"
   ]
  },
  {
   "cell_type": "markdown",
   "id": "ea04bca0",
   "metadata": {},
   "source": [
    "### Univariate_analysis-"
   ]
  },
  {
   "cell_type": "code",
   "execution_count": 34,
   "id": "f34f9b22",
   "metadata": {
    "scrolled": false
   },
   "outputs": [
    {
     "name": "stdout",
     "output_type": "stream",
     "text": [
      "------------------------------------------------------------------------------------------\n",
      "The feature is edible-poisonous and number of categories are 2\n",
      "Value_count \n",
      "p    33888\n",
      "e    27181\n",
      "Name: edible-poisonous, dtype: int64\n"
     ]
    },
    {
     "name": "stderr",
     "output_type": "stream",
     "text": [
      "C:\\Users\\Nikhil\\anaconda3\\lib\\site-packages\\seaborn\\_decorators.py:36: FutureWarning: Pass the following variable as a keyword arg: x. From version 0.12, the only valid positional argument will be `data`, and passing other arguments without an explicit keyword will result in an error or misinterpretation.\n",
      "  warnings.warn(\n"
     ]
    },
    {
     "data": {
      "image/png": "[encoded data removed]",
      "text/plain": [
       "<Figure size 432x288 with 1 Axes>"
      ]
     },
     "metadata": {
      "needs_background": "light"
     },
     "output_type": "display_data"
    },
    {
     "name": "stdout",
     "output_type": "stream",
     "text": [
      "------------------------------------------------------------------------------------------\n",
      "------------------------------------------------------------------------------------------\n",
      "summary of column cap-diameter \n",
      "count    61069.000000\n",
      "mean         6.733854\n",
      "std          5.264845\n",
      "min          0.380000\n",
      "25%          3.480000\n",
      "50%          5.860000\n",
      "75%          8.540000\n",
      "max         62.340000\n",
      "Name: cap-diameter, dtype: float64\n"
     ]
    },
    {
     "data": {
      "image/png": "[encoded data removed]",
      "text/plain": [
       "<Figure size 360x360 with 1 Axes>"
      ]
     },
     "metadata": {
      "needs_background": "light"
     },
     "output_type": "display_data"
    },
    {
     "name": "stdout",
     "output_type": "stream",
     "text": [
      "------------------------------------------------------------------------------------------\n",
      "------------------------------------------------------------------------------------------\n",
      "The feature is cap-shape and number of categories are 7\n",
      "Value_count \n",
      "x    26934\n",
      "f    13404\n",
      "s     7164\n",
      "b     5694\n",
      "o     3460\n",
      "p     2598\n",
      "c     1815\n",
      "Name: cap-shape, dtype: int64\n"
     ]
    },
    {
     "name": "stderr",
     "output_type": "stream",
     "text": [
      "C:\\Users\\Nikhil\\anaconda3\\lib\\site-packages\\seaborn\\_decorators.py:36: FutureWarning: Pass the following variable as a keyword arg: x. From version 0.12, the only valid positional argument will be `data`, and passing other arguments without an explicit keyword will result in an error or misinterpretation.\n",
      "  warnings.warn(\n"
     ]
    },
    {
     "data": {
      "image/png": "[encoded data removed]",
      "text/plain": [
       "<Figure size 432x288 with 1 Axes>"
      ]
     },
     "metadata": {
      "needs_background": "light"
     },
     "output_type": "display_data"
    },
    {
     "name": "stdout",
     "output_type": "stream",
     "text": [
      "------------------------------------------------------------------------------------------\n",
      "------------------------------------------------------------------------------------------\n",
      "The feature is cap-color and number of categories are 12\n",
      "Value_count \n",
      "n    24218\n",
      "y     8543\n",
      "w     7666\n",
      "g     4420\n",
      "e     4035\n",
      "o     3656\n",
      "r     1782\n",
      "u     1709\n",
      "p     1703\n",
      "k     1279\n",
      "b     1230\n",
      "l      828\n",
      "Name: cap-color, dtype: int64\n"
     ]
    },
    {
     "name": "stderr",
     "output_type": "stream",
     "text": [
      "C:\\Users\\Nikhil\\anaconda3\\lib\\site-packages\\seaborn\\_decorators.py:36: FutureWarning: Pass the following variable as a keyword arg: x. From version 0.12, the only valid positional argument will be `data`, and passing other arguments without an explicit keyword will result in an error or misinterpretation.\n",
      "  warnings.warn(\n"
     ]
    },
    {
     "data": {
      "image/png": "[encoded data removed]",
      "text/plain": [
       "<Figure size 432x288 with 1 Axes>"
      ]
     },
     "metadata": {
      "needs_background": "light"
     },
     "output_type": "display_data"
    },
    {
     "name": "stdout",
     "output_type": "stream",
     "text": [
      "------------------------------------------------------------------------------------------\n",
      "------------------------------------------------------------------------------------------\n",
      "The feature is does-bruise-or-bleed and number of categories are 2\n",
      "Value_count \n",
      "f    50479\n",
      "t    10590\n",
      "Name: does-bruise-or-bleed, dtype: int64\n"
     ]
    },
    {
     "name": "stderr",
     "output_type": "stream",
     "text": [
      "C:\\Users\\Nikhil\\anaconda3\\lib\\site-packages\\seaborn\\_decorators.py:36: FutureWarning: Pass the following variable as a keyword arg: x. From version 0.12, the only valid positional argument will be `data`, and passing other arguments without an explicit keyword will result in an error or misinterpretation.\n",
      "  warnings.warn(\n"
     ]
    },
    {
     "data": {
      "image/png": "[encoded data removed]",
      "text/plain": [
       "<Figure size 432x288 with 1 Axes>"
      ]
     },
     "metadata": {
      "needs_background": "light"
     },
     "output_type": "display_data"
    },
    {
     "name": "stdout",
     "output_type": "stream",
     "text": [
      "------------------------------------------------------------------------------------------\n",
      "------------------------------------------------------------------------------------------\n",
      "The feature is gill-attachment and number of categories are 7\n",
      "Value_count \n",
      "a    15185\n",
      "d    12195\n",
      "x     8841\n",
      "p     7209\n",
      "e     6739\n",
      "s     6684\n",
      "f     4216\n",
      "Name: gill-attachment, dtype: int64\n"
     ]
    },
    {
     "name": "stderr",
     "output_type": "stream",
     "text": [
      "C:\\Users\\Nikhil\\anaconda3\\lib\\site-packages\\seaborn\\_decorators.py:36: FutureWarning: Pass the following variable as a keyword arg: x. From version 0.12, the only valid positional argument will be `data`, and passing other arguments without an explicit keyword will result in an error or misinterpretation.\n",
      "  warnings.warn(\n"
     ]
    },
    {
     "data": {
      "image/png": "[encoded data removed]",
      "text/plain": [
       "<Figure size 432x288 with 1 Axes>"
      ]
     },
     "metadata": {
      "needs_background": "light"
     },
     "output_type": "display_data"
    },
    {
     "name": "stdout",
     "output_type": "stream",
     "text": [
      "------------------------------------------------------------------------------------------\n",
      "------------------------------------------------------------------------------------------\n",
      "The feature is gill-color and number of categories are 12\n",
      "Value_count \n",
      "w    18521\n",
      "n     9645\n",
      "y     9546\n",
      "p     5983\n",
      "g     4118\n",
      "f     3530\n",
      "o     2909\n",
      "k     2375\n",
      "r     1399\n",
      "e     1066\n",
      "u     1023\n",
      "b      954\n",
      "Name: gill-color, dtype: int64\n"
     ]
    },
    {
     "name": "stderr",
     "output_type": "stream",
     "text": [
      "C:\\Users\\Nikhil\\anaconda3\\lib\\site-packages\\seaborn\\_decorators.py:36: FutureWarning: Pass the following variable as a keyword arg: x. From version 0.12, the only valid positional argument will be `data`, and passing other arguments without an explicit keyword will result in an error or misinterpretation.\n",
      "  warnings.warn(\n"
     ]
    },
    {
     "data": {
      "image/png": "[encoded data removed]",
      "text/plain": [
       "<Figure size 432x288 with 1 Axes>"
      ]
     },
     "metadata": {
      "needs_background": "light"
     },
     "output_type": "display_data"
    },
    {
     "name": "stdout",
     "output_type": "stream",
     "text": [
      "------------------------------------------------------------------------------------------\n",
      "------------------------------------------------------------------------------------------\n",
      "summary of column stem-height \n",
      "count    61069.000000\n",
      "mean         6.581538\n",
      "std          3.370017\n",
      "min          0.000000\n",
      "25%          4.640000\n",
      "50%          5.950000\n",
      "75%          7.740000\n",
      "max         33.920000\n",
      "Name: stem-height, dtype: float64\n"
     ]
    },
    {
     "data": {
      "image/png": "[encoded data removed]",
      "text/plain": [
       "<Figure size 360x360 with 1 Axes>"
      ]
     },
     "metadata": {
      "needs_background": "light"
     },
     "output_type": "display_data"
    },
    {
     "name": "stdout",
     "output_type": "stream",
     "text": [
      "------------------------------------------------------------------------------------------\n",
      "------------------------------------------------------------------------------------------\n",
      "summary of column stem-width \n",
      "count    61069.000000\n",
      "mean        12.149410\n",
      "std         10.035955\n",
      "min          0.000000\n",
      "25%          5.210000\n",
      "50%         10.190000\n",
      "75%         16.570000\n",
      "max        103.910000\n",
      "Name: stem-width, dtype: float64\n"
     ]
    },
    {
     "data": {
      "image/png": "[encoded data removed]",
      "text/plain": [
       "<Figure size 360x360 with 1 Axes>"
      ]
     },
     "metadata": {
      "needs_background": "light"
     },
     "output_type": "display_data"
    },
    {
     "name": "stdout",
     "output_type": "stream",
     "text": [
      "------------------------------------------------------------------------------------------\n",
      "------------------------------------------------------------------------------------------\n",
      "The feature is stem-color and number of categories are 13\n",
      "Value_count \n",
      "w    22926\n",
      "n    18063\n",
      "y     7865\n",
      "g     2626\n",
      "o     2187\n",
      "e     2050\n",
      "u     1490\n",
      "f     1059\n",
      "p     1025\n",
      "k      837\n",
      "r      542\n",
      "l      226\n",
      "b      173\n",
      "Name: stem-color, dtype: int64\n"
     ]
    },
    {
     "name": "stderr",
     "output_type": "stream",
     "text": [
      "C:\\Users\\Nikhil\\anaconda3\\lib\\site-packages\\seaborn\\_decorators.py:36: FutureWarning: Pass the following variable as a keyword arg: x. From version 0.12, the only valid positional argument will be `data`, and passing other arguments without an explicit keyword will result in an error or misinterpretation.\n",
      "  warnings.warn(\n"
     ]
    },
    {
     "data": {
      "image/png": "[encoded data removed]",
      "text/plain": [
       "<Figure size 432x288 with 1 Axes>"
      ]
     },
     "metadata": {
      "needs_background": "light"
     },
     "output_type": "display_data"
    },
    {
     "name": "stdout",
     "output_type": "stream",
     "text": [
      "------------------------------------------------------------------------------------------\n",
      "------------------------------------------------------------------------------------------\n",
      "The feature is has-ring and number of categories are 2\n",
      "Value_count \n",
      "f    45890\n",
      "t    15179\n",
      "Name: has-ring, dtype: int64\n"
     ]
    },
    {
     "name": "stderr",
     "output_type": "stream",
     "text": [
      "C:\\Users\\Nikhil\\anaconda3\\lib\\site-packages\\seaborn\\_decorators.py:36: FutureWarning: Pass the following variable as a keyword arg: x. From version 0.12, the only valid positional argument will be `data`, and passing other arguments without an explicit keyword will result in an error or misinterpretation.\n",
      "  warnings.warn(\n"
     ]
    },
    {
     "data": {
      "image/png": "[encoded data removed]",
      "text/plain": [
       "<Figure size 432x288 with 1 Axes>"
      ]
     },
     "metadata": {
      "needs_background": "light"
     },
     "output_type": "display_data"
    },
    {
     "name": "stdout",
     "output_type": "stream",
     "text": [
      "------------------------------------------------------------------------------------------\n",
      "------------------------------------------------------------------------------------------\n",
      "The feature is ring-type and number of categories are 8\n",
      "Value_count \n",
      "f    50418\n",
      "e     2518\n",
      "z     2192\n",
      "l     1483\n",
      "r     1467\n",
      "p     1316\n",
      "g     1303\n",
      "m      372\n",
      "Name: ring-type, dtype: int64\n"
     ]
    },
    {
     "name": "stderr",
     "output_type": "stream",
     "text": [
      "C:\\Users\\Nikhil\\anaconda3\\lib\\site-packages\\seaborn\\_decorators.py:36: FutureWarning: Pass the following variable as a keyword arg: x. From version 0.12, the only valid positional argument will be `data`, and passing other arguments without an explicit keyword will result in an error or misinterpretation.\n",
      "  warnings.warn(\n"
     ]
    },
    {
     "data": {
      "image/png": "[encoded data removed]",
      "text/plain": [
       "<Figure size 432x288 with 1 Axes>"
      ]
     },
     "metadata": {
      "needs_background": "light"
     },
     "output_type": "display_data"
    },
    {
     "name": "stdout",
     "output_type": "stream",
     "text": [
      "------------------------------------------------------------------------------------------\n",
      "------------------------------------------------------------------------------------------\n",
      "The feature is habitat and number of categories are 8\n",
      "Value_count \n",
      "d    44209\n",
      "g     7943\n",
      "l     3168\n",
      "m     2920\n",
      "h     2001\n",
      "p      360\n",
      "w      353\n",
      "u      115\n",
      "Name: habitat, dtype: int64\n"
     ]
    },
    {
     "name": "stderr",
     "output_type": "stream",
     "text": [
      "C:\\Users\\Nikhil\\anaconda3\\lib\\site-packages\\seaborn\\_decorators.py:36: FutureWarning: Pass the following variable as a keyword arg: x. From version 0.12, the only valid positional argument will be `data`, and passing other arguments without an explicit keyword will result in an error or misinterpretation.\n",
      "  warnings.warn(\n"
     ]
    },
    {
     "data": {
      "image/png": "[encoded data removed]",
      "text/plain": [
       "<Figure size 432x288 with 1 Axes>"
      ]
     },
     "metadata": {
      "needs_background": "light"
     },
     "output_type": "display_data"
    },
    {
     "name": "stdout",
     "output_type": "stream",
     "text": [
      "------------------------------------------------------------------------------------------\n",
      "------------------------------------------------------------------------------------------\n",
      "summary of column season \n",
      "count    42748.000000\n",
      "mean         0.681365\n",
      "std          0.809748\n",
      "min          0.000000\n",
      "25%          0.000000\n",
      "50%          1.000000\n",
      "75%          1.000000\n",
      "max          3.000000\n",
      "Name: season, dtype: float64\n"
     ]
    },
    {
     "data": {
      "image/png": "[encoded data removed]",
      "text/plain": [
       "<Figure size 360x360 with 1 Axes>"
      ]
     },
     "metadata": {
      "needs_background": "light"
     },
     "output_type": "display_data"
    },
    {
     "name": "stdout",
     "output_type": "stream",
     "text": [
      "------------------------------------------------------------------------------------------\n"
     ]
    }
   ],
   "source": [
    "for i in df1.columns.values:\n",
    "    plot(df1,i)"
   ]
  },
  {
   "cell_type": "markdown",
   "id": "0a2c9185",
   "metadata": {},
   "source": [
    "### BIVARIATE ANALYSIS"
   ]
  },
  {
   "cell_type": "markdown",
   "id": "705c3723",
   "metadata": {},
   "source": [
    "###### Checking relationship between the numerical variable "
   ]
  },
  {
   "cell_type": "code",
   "execution_count": 35,
   "id": "79d64aab",
   "metadata": {
    "scrolled": true
   },
   "outputs": [
    {
     "data": {
      "image/png": "[encoded data removed]",
      "text/plain": [
       "<Figure size 360x360 with 1 Axes>"
      ]
     },
     "metadata": {
      "needs_background": "light"
     },
     "output_type": "display_data"
    }
   ],
   "source": [
    "#stem-height with stem-width\n",
    "sns.relplot(x=\"stem-height\", y=\"stem-width\",data=df1);"
   ]
  },
  {
   "cell_type": "markdown",
   "id": "527b127d",
   "metadata": {},
   "source": [
    "<p style=\"font-weight: bold;\">stem width of mushrooms is showing a linear relationship with stem height</p>"
   ]
  },
  {
   "cell_type": "code",
   "execution_count": 36,
   "id": "a9662b94",
   "metadata": {},
   "outputs": [
    {
     "data": {
      "image/png": "[encoded data removed]",
      "text/plain": [
       "<Figure size 360x360 with 1 Axes>"
      ]
     },
     "metadata": {
      "needs_background": "light"
     },
     "output_type": "display_data"
    }
   ],
   "source": [
    "#stem-height with cap-diameter\n",
    "sns.relplot(x='stem-height', y='cap-diameter',data=df1);"
   ]
  },
  {
   "cell_type": "markdown",
   "id": "c6507604",
   "metadata": {},
   "source": [
    "<p style=\"font-weight: bold;\">Stem height of mushrooms is showing a linear relationship with cap diameter</p>"
   ]
  },
  {
   "cell_type": "code",
   "execution_count": 37,
   "id": "e6960038",
   "metadata": {
    "scrolled": false
   },
   "outputs": [
    {
     "data": {
      "image/png": "[encoded data removed]",
      "text/plain": [
       "<Figure size 360x360 with 1 Axes>"
      ]
     },
     "metadata": {
      "needs_background": "light"
     },
     "output_type": "display_data"
    }
   ],
   "source": [
    "#stem-height with cap-diameter\n",
    "sns.relplot(x='cap-diameter', y='stem-width',data=df1);"
   ]
  },
  {
   "cell_type": "markdown",
   "id": "587fe666",
   "metadata": {},
   "source": [
    "<p style=\"font-weight: bold;\">stem width of mushrooms is showing a linear relationship with cap-diameter.</p>"
   ]
  },
  {
   "cell_type": "markdown",
   "id": "f4f89e85",
   "metadata": {},
   "source": [
    "###### Categorical Column with target variable"
   ]
  },
  {
   "cell_type": "markdown",
   "id": "3b4843f8",
   "metadata": {},
   "source": [
    "###### Using chi-squared hypothesis test-"
   ]
  },
  {
   "cell_type": "code",
   "execution_count": 38,
   "id": "5acdae03",
   "metadata": {
    "scrolled": false
   },
   "outputs": [
    {
     "name": "stdout",
     "output_type": "stream",
     "text": [
      "-----------------------------------------------------------------------------\n",
      "0. edible-poisonous\n",
      "Stating Hypothesis and confidence level:-\n",
      "Ho: There is no relationship between season & edible-poisonous\n",
      "Ha: There is relationship/associativity between season & edible-poisonous\n",
      "confidence level= 95.0%\n",
      "-------------------=-------------------\n",
      "Result\n",
      "We fail to accept Null Hypothesis(Ho) as p value 1.5158003793872496e-124 is very low\n",
      "-----------------------------------------------------------------------------\n",
      "-----------------------------------------------------------------------------\n",
      "-----------------------------------------------------------------------------\n",
      "2. cap-shape\n",
      "Stating Hypothesis and confidence level:-\n",
      "Ho: There is no relationship between season & cap-shape\n",
      "Ha: There is relationship/associativity between season & cap-shape\n",
      "confidence level= 95.0%\n",
      "-------------------=-------------------\n",
      "Result\n",
      "We fail to accept Null Hypothesis(Ho) as p value 0.0 is very low\n",
      "-----------------------------------------------------------------------------\n",
      "-----------------------------------------------------------------------------\n",
      "-----------------------------------------------------------------------------\n",
      "3. cap-color\n",
      "Stating Hypothesis and confidence level:-\n",
      "Ho: There is no relationship between season & cap-color\n",
      "Ha: There is relationship/associativity between season & cap-color\n",
      "confidence level= 95.0%\n",
      "-------------------=-------------------\n",
      "Result\n",
      "We fail to accept Null Hypothesis(Ho) as p value 8.479306300742348e-304 is very low\n",
      "-----------------------------------------------------------------------------\n",
      "-----------------------------------------------------------------------------\n",
      "-----------------------------------------------------------------------------\n",
      "4. does-bruise-or-bleed\n",
      "Stating Hypothesis and confidence level:-\n",
      "Ho: There is no relationship between season & does-bruise-or-bleed\n",
      "Ha: There is relationship/associativity between season & does-bruise-or-bleed\n",
      "confidence level= 95.0%\n",
      "-------------------=-------------------\n",
      "Result\n",
      "We fail to accept Null Hypothesis(Ho) as p value 1.624994415797986e-205 is very low\n",
      "-----------------------------------------------------------------------------\n",
      "-----------------------------------------------------------------------------\n",
      "-----------------------------------------------------------------------------\n",
      "5. gill-attachment\n",
      "Stating Hypothesis and confidence level:-\n",
      "Ho: There is no relationship between season & gill-attachment\n",
      "Ha: There is relationship/associativity between season & gill-attachment\n",
      "confidence level= 95.0%\n",
      "-------------------=-------------------\n",
      "Result\n",
      "We fail to accept Null Hypothesis(Ho) as p value 0.0 is very low\n",
      "-----------------------------------------------------------------------------\n",
      "-----------------------------------------------------------------------------\n",
      "-----------------------------------------------------------------------------\n",
      "6. gill-color\n",
      "Stating Hypothesis and confidence level:-\n",
      "Ho: There is no relationship between season & gill-color\n",
      "Ha: There is relationship/associativity between season & gill-color\n",
      "confidence level= 95.0%\n",
      "-------------------=-------------------\n",
      "Result\n",
      "We fail to accept Null Hypothesis(Ho) as p value 0.0 is very low\n",
      "-----------------------------------------------------------------------------\n",
      "-----------------------------------------------------------------------------\n",
      "-----------------------------------------------------------------------------\n",
      "9. stem-color\n",
      "Stating Hypothesis and confidence level:-\n",
      "Ho: There is no relationship between season & stem-color\n",
      "Ha: There is relationship/associativity between season & stem-color\n",
      "confidence level= 95.0%\n",
      "-------------------=-------------------\n",
      "Result\n",
      "We fail to accept Null Hypothesis(Ho) as p value 0.0 is very low\n",
      "-----------------------------------------------------------------------------\n",
      "-----------------------------------------------------------------------------\n",
      "-----------------------------------------------------------------------------\n",
      "10. has-ring\n",
      "Stating Hypothesis and confidence level:-\n",
      "Ho: There is no relationship between season & has-ring\n",
      "Ha: There is relationship/associativity between season & has-ring\n",
      "confidence level= 95.0%\n",
      "-------------------=-------------------\n",
      "Result\n",
      "We fail to accept Null Hypothesis(Ho) as p value 7.888396513482355e-14 is very low\n",
      "-----------------------------------------------------------------------------\n",
      "-----------------------------------------------------------------------------\n",
      "-----------------------------------------------------------------------------\n",
      "11. ring-type\n",
      "Stating Hypothesis and confidence level:-\n",
      "Ho: There is no relationship between season & ring-type\n",
      "Ha: There is relationship/associativity between season & ring-type\n",
      "confidence level= 95.0%\n",
      "-------------------=-------------------\n",
      "Result\n",
      "We fail to accept Null Hypothesis(Ho) as p value 2.7159896019494123e-119 is very low\n",
      "-----------------------------------------------------------------------------\n",
      "-----------------------------------------------------------------------------\n",
      "-----------------------------------------------------------------------------\n",
      "12. habitat\n",
      "Stating Hypothesis and confidence level:-\n",
      "Ho: There is no relationship between season & habitat\n",
      "Ha: There is relationship/associativity between season & habitat\n",
      "confidence level= 95.0%\n",
      "-------------------=-------------------\n",
      "Result\n",
      "We fail to accept Null Hypothesis(Ho) as p value 1.7991483916683357e-149 is very low\n",
      "-----------------------------------------------------------------------------\n",
      "-----------------------------------------------------------------------------\n"
     ]
    }
   ],
   "source": [
    "for i in df1.columns.values:\n",
    "    if df1[i].dtypes=='O':#\n",
    "        # find the index no\n",
    "        print('-----------------------------------------------------------------------------')\n",
    "        index_no = df1.columns.get_loc(i)\n",
    "        print('{}. {}'.format(index_no,i))\n",
    "        hypo_chi(df1,'season',i,.05)\n",
    "        print('-----------------------------------------------------------------------------')\n",
    "        print('-----------------------------------------------------------------------------')"
   ]
  },
  {
   "cell_type": "markdown",
   "id": "639a3322",
   "metadata": {},
   "source": [
    "<p style=\"font-weight: bold;\">All the categorical variable are in good relationship with target variable</p>"
   ]
  },
  {
   "cell_type": "markdown",
   "id": "e19a7599",
   "metadata": {},
   "source": [
    "###### Numerical Column with target variable season"
   ]
  },
  {
   "cell_type": "code",
   "execution_count": 39,
   "id": "77b50224",
   "metadata": {},
   "outputs": [
    {
     "data": {
      "image/png": "[encoded data removed]",
      "text/plain": [
       "<Figure size 432x576 with 1 Axes>"
      ]
     },
     "metadata": {
      "needs_background": "light"
     },
     "output_type": "display_data"
    }
   ],
   "source": [
    "#boxplot will give the distribution\n",
    "plt.figure(figsize=(6,8))\n",
    "sns.boxplot(x='season',y='cap-diameter',data=df1)\n",
    "plt.xticks(rotation='vertical')\n",
    "plt.show()"
   ]
  },
  {
   "cell_type": "code",
   "execution_count": 40,
   "id": "003bb898",
   "metadata": {
    "scrolled": true
   },
   "outputs": [
    {
     "data": {
      "image/png": "[encoded data removed]",
      "text/plain": [
       "<Figure size 432x576 with 1 Axes>"
      ]
     },
     "metadata": {
      "needs_background": "light"
     },
     "output_type": "display_data"
    }
   ],
   "source": [
    "#boxplot will give the distribution\n",
    "plt.figure(figsize=(6,8))\n",
    "sns.boxplot(x='season',y='stem-height',data=df1)\n",
    "plt.xticks(rotation='vertical')\n",
    "plt.show()"
   ]
  },
  {
   "cell_type": "code",
   "execution_count": 41,
   "id": "f014602f",
   "metadata": {
    "scrolled": false
   },
   "outputs": [
    {
     "data": {
      "image/png": "[encoded data removed]",
      "text/plain": [
       "<Figure size 432x576 with 1 Axes>"
      ]
     },
     "metadata": {
      "needs_background": "light"
     },
     "output_type": "display_data"
    }
   ],
   "source": [
    "#boxplot will give the distribution\n",
    "plt.figure(figsize=(6,8))\n",
    "sns.boxplot(x='season',y='stem-width',data=df1)\n",
    "plt.xticks(rotation='vertical')\n",
    "plt.show()"
   ]
  },
  {
   "cell_type": "markdown",
   "id": "520cac65",
   "metadata": {},
   "source": [
    "### Outlier Treatment"
   ]
  },
  {
   "cell_type": "markdown",
   "id": "6bfbb8b3",
   "metadata": {},
   "source": [
    "<p style=\"font-weight: bold;\">Stem-Width</p>"
   ]
  },
  {
   "cell_type": "code",
   "execution_count": 42,
   "id": "5be2a1d2",
   "metadata": {
    "scrolled": true
   },
   "outputs": [
    {
     "data": {
      "image/png": "[encoded data removed]",
      "text/plain": [
       "<Figure size 576x432 with 1 Axes>"
      ]
     },
     "metadata": {
      "needs_background": "light"
     },
     "output_type": "display_data"
    }
   ],
   "source": [
    "perc(df['stem-width'],'stem-width')"
   ]
  },
  {
   "cell_type": "markdown",
   "id": "a75a06b3",
   "metadata": {},
   "source": [
    "<p style=\"font-weight: bold;\">outliers are after 99 percentile</p>"
   ]
  },
  {
   "cell_type": "code",
   "execution_count": 43,
   "id": "baf54af1",
   "metadata": {},
   "outputs": [],
   "source": [
    "#outlier treatment\n",
    "d=float(df1['stem-width'].quantile(.99))\n",
    "df1['stem-width']=np.where(df1['stem-width']>d,d,df1['stem-width'])"
   ]
  },
  {
   "cell_type": "markdown",
   "id": "d59e12a9",
   "metadata": {},
   "source": [
    "<p style=\"font-weight: bold;\">Cap-Diameter</p>"
   ]
  },
  {
   "cell_type": "code",
   "execution_count": 44,
   "id": "7ff3e432",
   "metadata": {
    "scrolled": true
   },
   "outputs": [
    {
     "data": {
      "image/png": "[encoded data removed]",
      "text/plain": [
       "<Figure size 576x432 with 1 Axes>"
      ]
     },
     "metadata": {
      "needs_background": "light"
     },
     "output_type": "display_data"
    }
   ],
   "source": [
    "perc(df['cap-diameter'],'cap-diameter')"
   ]
  },
  {
   "cell_type": "markdown",
   "id": "2cd47ad1",
   "metadata": {},
   "source": [
    "<p style=\"font-weight: bold;\">outliers are after 99 percentile</p>"
   ]
  },
  {
   "cell_type": "code",
   "execution_count": 45,
   "id": "084df382",
   "metadata": {},
   "outputs": [],
   "source": [
    "#outlier treatment\n",
    "d=float(df1['cap-diameter'].quantile(.99))\n",
    "df1['cap-diameter']=np.where(df1['cap-diameter']>d,d,df1['cap-diameter'])"
   ]
  },
  {
   "cell_type": "markdown",
   "id": "4e444c6c",
   "metadata": {},
   "source": [
    "<p style=\"font-weight: bold;\">Stem-Height</p>"
   ]
  },
  {
   "cell_type": "code",
   "execution_count": 46,
   "id": "20e0b7aa",
   "metadata": {
    "scrolled": true
   },
   "outputs": [
    {
     "data": {
      "image/png": "[encoded data removed]",
      "text/plain": [
       "<Figure size 576x432 with 1 Axes>"
      ]
     },
     "metadata": {
      "needs_background": "light"
     },
     "output_type": "display_data"
    }
   ],
   "source": [
    "perc(df['stem-height'],'stem-height')"
   ]
  },
  {
   "cell_type": "markdown",
   "id": "ae510076",
   "metadata": {},
   "source": [
    "<p style=\"font-weight: bold;\">outliers are after 99 percentile</p>"
   ]
  },
  {
   "cell_type": "code",
   "execution_count": 47,
   "id": "f3ce685a",
   "metadata": {},
   "outputs": [],
   "source": [
    "#outlier treatment\n",
    "d=float(df1['stem-height'].quantile(.99))\n",
    "df1['stem-height']=np.where(df1['stem-height']>d,d,df1['stem-height'])"
   ]
  },
  {
   "cell_type": "markdown",
   "id": "d04e2029",
   "metadata": {},
   "source": [
    "### Indicator Columns"
   ]
  },
  {
   "cell_type": "code",
   "execution_count": 48,
   "id": "bd2ab721",
   "metadata": {},
   "outputs": [],
   "source": [
    "df1=pd.get_dummies(df1,columns=['edible-poisonous',  'cap-shape', 'cap-color',\n",
    "                                'does-bruise-or-bleed', 'gill-attachment', 'gill-color',\n",
    "                                'stem-color', 'has-ring', 'ring-type', 'habitat'],drop_first=True)"
   ]
  },
  {
   "cell_type": "code",
   "execution_count": 49,
   "id": "586d9fbb",
   "metadata": {
    "scrolled": true
   },
   "outputs": [
    {
     "data": {
      "text/html": [
       "<div>\n",
       "<style scoped>\n",
       "    .dataframe tbody tr th:only-of-type {\n",
       "        vertical-align: middle;\n",
       "    }\n",
       "\n",
       "    .dataframe tbody tr th {\n",
       "        vertical-align: top;\n",
       "    }\n",
       "\n",
       "    .dataframe thead th {\n",
       "        text-align: right;\n",
       "    }\n",
       "</style>\n",
       "<table border=\"1\" class=\"dataframe\">\n",
       "  <thead>\n",
       "    <tr style=\"text-align: right;\">\n",
       "      <th></th>\n",
       "      <th>cap-diameter</th>\n",
       "      <th>stem-height</th>\n",
       "      <th>stem-width</th>\n",
       "      <th>season</th>\n",
       "      <th>edible-poisonous_p</th>\n",
       "      <th>cap-shape_c</th>\n",
       "      <th>cap-shape_f</th>\n",
       "      <th>cap-shape_o</th>\n",
       "      <th>cap-shape_p</th>\n",
       "      <th>cap-shape_s</th>\n",
       "      <th>...</th>\n",
       "      <th>ring-type_p</th>\n",
       "      <th>ring-type_r</th>\n",
       "      <th>ring-type_z</th>\n",
       "      <th>habitat_g</th>\n",
       "      <th>habitat_h</th>\n",
       "      <th>habitat_l</th>\n",
       "      <th>habitat_m</th>\n",
       "      <th>habitat_p</th>\n",
       "      <th>habitat_u</th>\n",
       "      <th>habitat_w</th>\n",
       "    </tr>\n",
       "  </thead>\n",
       "  <tbody>\n",
       "    <tr>\n",
       "      <th>0</th>\n",
       "      <td>5.75</td>\n",
       "      <td>6.13</td>\n",
       "      <td>14.93</td>\n",
       "      <td>0.0</td>\n",
       "      <td>1</td>\n",
       "      <td>0</td>\n",
       "      <td>0</td>\n",
       "      <td>0</td>\n",
       "      <td>0</td>\n",
       "      <td>0</td>\n",
       "      <td>...</td>\n",
       "      <td>0</td>\n",
       "      <td>0</td>\n",
       "      <td>0</td>\n",
       "      <td>0</td>\n",
       "      <td>0</td>\n",
       "      <td>0</td>\n",
       "      <td>0</td>\n",
       "      <td>0</td>\n",
       "      <td>0</td>\n",
       "      <td>0</td>\n",
       "    </tr>\n",
       "    <tr>\n",
       "      <th>1</th>\n",
       "      <td>2.27</td>\n",
       "      <td>0.00</td>\n",
       "      <td>0.00</td>\n",
       "      <td>3.0</td>\n",
       "      <td>1</td>\n",
       "      <td>0</td>\n",
       "      <td>0</td>\n",
       "      <td>1</td>\n",
       "      <td>0</td>\n",
       "      <td>0</td>\n",
       "      <td>...</td>\n",
       "      <td>0</td>\n",
       "      <td>0</td>\n",
       "      <td>0</td>\n",
       "      <td>0</td>\n",
       "      <td>0</td>\n",
       "      <td>0</td>\n",
       "      <td>0</td>\n",
       "      <td>0</td>\n",
       "      <td>0</td>\n",
       "      <td>0</td>\n",
       "    </tr>\n",
       "    <tr>\n",
       "      <th>2</th>\n",
       "      <td>5.59</td>\n",
       "      <td>5.47</td>\n",
       "      <td>11.27</td>\n",
       "      <td>0.0</td>\n",
       "      <td>1</td>\n",
       "      <td>1</td>\n",
       "      <td>0</td>\n",
       "      <td>0</td>\n",
       "      <td>0</td>\n",
       "      <td>0</td>\n",
       "      <td>...</td>\n",
       "      <td>0</td>\n",
       "      <td>0</td>\n",
       "      <td>0</td>\n",
       "      <td>0</td>\n",
       "      <td>0</td>\n",
       "      <td>0</td>\n",
       "      <td>0</td>\n",
       "      <td>0</td>\n",
       "      <td>0</td>\n",
       "      <td>0</td>\n",
       "    </tr>\n",
       "    <tr>\n",
       "      <th>3</th>\n",
       "      <td>0.74</td>\n",
       "      <td>4.33</td>\n",
       "      <td>0.98</td>\n",
       "      <td>0.0</td>\n",
       "      <td>1</td>\n",
       "      <td>0</td>\n",
       "      <td>0</td>\n",
       "      <td>0</td>\n",
       "      <td>0</td>\n",
       "      <td>0</td>\n",
       "      <td>...</td>\n",
       "      <td>0</td>\n",
       "      <td>0</td>\n",
       "      <td>0</td>\n",
       "      <td>0</td>\n",
       "      <td>0</td>\n",
       "      <td>0</td>\n",
       "      <td>0</td>\n",
       "      <td>0</td>\n",
       "      <td>0</td>\n",
       "      <td>0</td>\n",
       "    </tr>\n",
       "    <tr>\n",
       "      <th>4</th>\n",
       "      <td>9.60</td>\n",
       "      <td>10.84</td>\n",
       "      <td>28.52</td>\n",
       "      <td>1.0</td>\n",
       "      <td>1</td>\n",
       "      <td>0</td>\n",
       "      <td>0</td>\n",
       "      <td>0</td>\n",
       "      <td>0</td>\n",
       "      <td>0</td>\n",
       "      <td>...</td>\n",
       "      <td>0</td>\n",
       "      <td>0</td>\n",
       "      <td>0</td>\n",
       "      <td>0</td>\n",
       "      <td>0</td>\n",
       "      <td>0</td>\n",
       "      <td>0</td>\n",
       "      <td>0</td>\n",
       "      <td>0</td>\n",
       "      <td>0</td>\n",
       "    </tr>\n",
       "  </tbody>\n",
       "</table>\n",
       "<p>5 rows × 67 columns</p>\n",
       "</div>"
      ],
      "text/plain": [
       "   cap-diameter  stem-height  stem-width  season  edible-poisonous_p  \\\n",
       "0          5.75         6.13       14.93     0.0                   1   \n",
       "1          2.27         0.00        0.00     3.0                   1   \n",
       "2          5.59         5.47       11.27     0.0                   1   \n",
       "3          0.74         4.33        0.98     0.0                   1   \n",
       "4          9.60        10.84       28.52     1.0                   1   \n",
       "\n",
       "   cap-shape_c  cap-shape_f  cap-shape_o  cap-shape_p  cap-shape_s  ...  \\\n",
       "0            0            0            0            0            0  ...   \n",
       "1            0            0            1            0            0  ...   \n",
       "2            1            0            0            0            0  ...   \n",
       "3            0            0            0            0            0  ...   \n",
       "4            0            0            0            0            0  ...   \n",
       "\n",
       "   ring-type_p  ring-type_r  ring-type_z  habitat_g  habitat_h  habitat_l  \\\n",
       "0            0            0            0          0          0          0   \n",
       "1            0            0            0          0          0          0   \n",
       "2            0            0            0          0          0          0   \n",
       "3            0            0            0          0          0          0   \n",
       "4            0            0            0          0          0          0   \n",
       "\n",
       "   habitat_m  habitat_p  habitat_u  habitat_w  \n",
       "0          0          0          0          0  \n",
       "1          0          0          0          0  \n",
       "2          0          0          0          0  \n",
       "3          0          0          0          0  \n",
       "4          0          0          0          0  \n",
       "\n",
       "[5 rows x 67 columns]"
      ]
     },
     "execution_count": 49,
     "metadata": {},
     "output_type": "execute_result"
    }
   ],
   "source": [
    "df1.head()"
   ]
  },
  {
   "cell_type": "markdown",
   "id": "26f568b3",
   "metadata": {},
   "source": [
    "### Multi-collinearity"
   ]
  },
  {
   "cell_type": "code",
   "execution_count": 50,
   "id": "129829c3",
   "metadata": {},
   "outputs": [
    {
     "data": {
      "image/png": "[encoded data removed]",
      "text/plain": [
       "<Figure size 720x432 with 2 Axes>"
      ]
     },
     "metadata": {
      "needs_background": "light"
     },
     "output_type": "display_data"
    }
   ],
   "source": [
    "cor=df1[['cap-diameter','stem-height','stem-width']]\n",
    "#creating correlation matrix and saving in excel\n",
    "cor.corr().to_csv('cor.csv')\n",
    "#creating plot for correlation for getting rough idea\n",
    "f,ax=plt.subplots(figsize=(10,6))\n",
    "sns.heatmap(cor.corr(),ax=ax,cmap=\"gist_rainbow\", linewidths=0.1)\n",
    "plt.show()"
   ]
  },
  {
   "cell_type": "markdown",
   "id": "e3dabc93",
   "metadata": {},
   "source": [
    "#### Above corr plot shows that all three column pocess strong relation with each other"
   ]
  },
  {
   "cell_type": "code",
   "execution_count": 51,
   "id": "3825e925",
   "metadata": {},
   "outputs": [],
   "source": [
    "#feature engineering\n",
    "df1['add_cd_s_w']=df1['cap-diameter']+df1['stem-width']\n",
    "df1['mul_add_cd_s_w_sh']=df1['add_cd_s_w']*df1['stem-height']"
   ]
  },
  {
   "cell_type": "code",
   "execution_count": 52,
   "id": "b55782e7",
   "metadata": {},
   "outputs": [],
   "source": [
    "#function for checking VIF\n",
    "from statsmodels.stats.outliers_influence import variance_inflation_factor\n",
    "\n",
    "def calc_vif(X):\n",
    "\n",
    "    # Calculating VIF\n",
    "    vif = pd.DataFrame()\n",
    "    vif[\"variables\"] = X.columns\n",
    "    vif[\"VIF\"] = [variance_inflation_factor(X.values, i) for i in range(X.shape[1])]\n",
    "    return(vif.sort_values(by='VIF', ascending=False))"
   ]
  },
  {
   "cell_type": "code",
   "execution_count": 53,
   "id": "5d8fab13",
   "metadata": {},
   "outputs": [
    {
     "data": {
      "text/html": [
       "<div>\n",
       "<style scoped>\n",
       "    .dataframe tbody tr th:only-of-type {\n",
       "        vertical-align: middle;\n",
       "    }\n",
       "\n",
       "    .dataframe tbody tr th {\n",
       "        vertical-align: top;\n",
       "    }\n",
       "\n",
       "    .dataframe thead th {\n",
       "        text-align: right;\n",
       "    }\n",
       "</style>\n",
       "<table border=\"1\" class=\"dataframe\">\n",
       "  <thead>\n",
       "    <tr style=\"text-align: right;\">\n",
       "      <th></th>\n",
       "      <th>variables</th>\n",
       "      <th>VIF</th>\n",
       "    </tr>\n",
       "  </thead>\n",
       "  <tbody>\n",
       "    <tr>\n",
       "      <th>46</th>\n",
       "      <td>stem-color_w</td>\n",
       "      <td>51.633661</td>\n",
       "    </tr>\n",
       "    <tr>\n",
       "      <th>41</th>\n",
       "      <td>stem-color_n</td>\n",
       "      <td>41.994217</td>\n",
       "    </tr>\n",
       "    <tr>\n",
       "      <th>49</th>\n",
       "      <td>ring-type_f</td>\n",
       "      <td>36.119162</td>\n",
       "    </tr>\n",
       "    <tr>\n",
       "      <th>34</th>\n",
       "      <td>gill-color_w</td>\n",
       "      <td>27.552740</td>\n",
       "    </tr>\n",
       "    <tr>\n",
       "      <th>11</th>\n",
       "      <td>cap-color_n</td>\n",
       "      <td>25.057386</td>\n",
       "    </tr>\n",
       "    <tr>\n",
       "      <th>...</th>\n",
       "      <td>...</td>\n",
       "      <td>...</td>\n",
       "    </tr>\n",
       "    <tr>\n",
       "      <th>62</th>\n",
       "      <td>habitat_w</td>\n",
       "      <td>1.259443</td>\n",
       "    </tr>\n",
       "    <tr>\n",
       "      <th>58</th>\n",
       "      <td>habitat_l</td>\n",
       "      <td>1.231138</td>\n",
       "    </tr>\n",
       "    <tr>\n",
       "      <th>60</th>\n",
       "      <td>habitat_p</td>\n",
       "      <td>1.165387</td>\n",
       "    </tr>\n",
       "    <tr>\n",
       "      <th>57</th>\n",
       "      <td>habitat_h</td>\n",
       "      <td>1.137651</td>\n",
       "    </tr>\n",
       "    <tr>\n",
       "      <th>61</th>\n",
       "      <td>habitat_u</td>\n",
       "      <td>1.088019</td>\n",
       "    </tr>\n",
       "  </tbody>\n",
       "</table>\n",
       "<p>64 rows × 2 columns</p>\n",
       "</div>"
      ],
      "text/plain": [
       "       variables        VIF\n",
       "46  stem-color_w  51.633661\n",
       "41  stem-color_n  41.994217\n",
       "49   ring-type_f  36.119162\n",
       "34  gill-color_w  27.552740\n",
       "11   cap-color_n  25.057386\n",
       "..           ...        ...\n",
       "62     habitat_w   1.259443\n",
       "58     habitat_l   1.231138\n",
       "60     habitat_p   1.165387\n",
       "57     habitat_h   1.137651\n",
       "61     habitat_u   1.088019\n",
       "\n",
       "[64 rows x 2 columns]"
      ]
     },
     "execution_count": 53,
     "metadata": {},
     "output_type": "execute_result"
    }
   ],
   "source": [
    "X=df1.drop(['season','cap-diameter','stem-width','add_cd_s_w','stem-height','stem-height'],axis=1)\n",
    "calc_vif(X)"
   ]
  },
  {
   "cell_type": "code",
   "execution_count": 54,
   "id": "0eb7071b",
   "metadata": {},
   "outputs": [
    {
     "data": {
      "text/html": [
       "<div>\n",
       "<style scoped>\n",
       "    .dataframe tbody tr th:only-of-type {\n",
       "        vertical-align: middle;\n",
       "    }\n",
       "\n",
       "    .dataframe tbody tr th {\n",
       "        vertical-align: top;\n",
       "    }\n",
       "\n",
       "    .dataframe thead th {\n",
       "        text-align: right;\n",
       "    }\n",
       "</style>\n",
       "<table border=\"1\" class=\"dataframe\">\n",
       "  <thead>\n",
       "    <tr style=\"text-align: right;\">\n",
       "      <th></th>\n",
       "      <th>variables</th>\n",
       "      <th>VIF</th>\n",
       "    </tr>\n",
       "  </thead>\n",
       "  <tbody>\n",
       "    <tr>\n",
       "      <th>48</th>\n",
       "      <td>ring-type_f</td>\n",
       "      <td>25.475701</td>\n",
       "    </tr>\n",
       "    <tr>\n",
       "      <th>11</th>\n",
       "      <td>cap-color_n</td>\n",
       "      <td>23.849474</td>\n",
       "    </tr>\n",
       "    <tr>\n",
       "      <th>34</th>\n",
       "      <td>gill-color_w</td>\n",
       "      <td>20.117497</td>\n",
       "    </tr>\n",
       "    <tr>\n",
       "      <th>35</th>\n",
       "      <td>gill-color_y</td>\n",
       "      <td>11.446307</td>\n",
       "    </tr>\n",
       "    <tr>\n",
       "      <th>29</th>\n",
       "      <td>gill-color_n</td>\n",
       "      <td>11.432850</td>\n",
       "    </tr>\n",
       "    <tr>\n",
       "      <th>...</th>\n",
       "      <td>...</td>\n",
       "      <td>...</td>\n",
       "    </tr>\n",
       "    <tr>\n",
       "      <th>59</th>\n",
       "      <td>habitat_p</td>\n",
       "      <td>1.161868</td>\n",
       "    </tr>\n",
       "    <tr>\n",
       "      <th>40</th>\n",
       "      <td>stem-color_l</td>\n",
       "      <td>1.158042</td>\n",
       "    </tr>\n",
       "    <tr>\n",
       "      <th>44</th>\n",
       "      <td>stem-color_r</td>\n",
       "      <td>1.155884</td>\n",
       "    </tr>\n",
       "    <tr>\n",
       "      <th>56</th>\n",
       "      <td>habitat_h</td>\n",
       "      <td>1.137386</td>\n",
       "    </tr>\n",
       "    <tr>\n",
       "      <th>60</th>\n",
       "      <td>habitat_u</td>\n",
       "      <td>1.084985</td>\n",
       "    </tr>\n",
       "  </tbody>\n",
       "</table>\n",
       "<p>63 rows × 2 columns</p>\n",
       "</div>"
      ],
      "text/plain": [
       "       variables        VIF\n",
       "48   ring-type_f  25.475701\n",
       "11   cap-color_n  23.849474\n",
       "34  gill-color_w  20.117497\n",
       "35  gill-color_y  11.446307\n",
       "29  gill-color_n  11.432850\n",
       "..           ...        ...\n",
       "59     habitat_p   1.161868\n",
       "40  stem-color_l   1.158042\n",
       "44  stem-color_r   1.155884\n",
       "56     habitat_h   1.137386\n",
       "60     habitat_u   1.084985\n",
       "\n",
       "[63 rows x 2 columns]"
      ]
     },
     "execution_count": 54,
     "metadata": {},
     "output_type": "execute_result"
    }
   ],
   "source": [
    "X=df1.drop(['season','cap-diameter','stem-width','add_cd_s_w','stem-height','stem-height','stem-color_w'],axis=1)\n",
    "#removing column stem-color_w\n",
    "calc_vif(X)"
   ]
  },
  {
   "cell_type": "code",
   "execution_count": 55,
   "id": "2d80b955",
   "metadata": {},
   "outputs": [
    {
     "data": {
      "text/html": [
       "<div>\n",
       "<style scoped>\n",
       "    .dataframe tbody tr th:only-of-type {\n",
       "        vertical-align: middle;\n",
       "    }\n",
       "\n",
       "    .dataframe tbody tr th {\n",
       "        vertical-align: top;\n",
       "    }\n",
       "\n",
       "    .dataframe thead th {\n",
       "        text-align: right;\n",
       "    }\n",
       "</style>\n",
       "<table border=\"1\" class=\"dataframe\">\n",
       "  <thead>\n",
       "    <tr style=\"text-align: right;\">\n",
       "      <th></th>\n",
       "      <th>variables</th>\n",
       "      <th>VIF</th>\n",
       "    </tr>\n",
       "  </thead>\n",
       "  <tbody>\n",
       "    <tr>\n",
       "      <th>11</th>\n",
       "      <td>cap-color_n</td>\n",
       "      <td>22.621991</td>\n",
       "    </tr>\n",
       "    <tr>\n",
       "      <th>34</th>\n",
       "      <td>gill-color_w</td>\n",
       "      <td>18.031270</td>\n",
       "    </tr>\n",
       "    <tr>\n",
       "      <th>29</th>\n",
       "      <td>gill-color_n</td>\n",
       "      <td>10.375532</td>\n",
       "    </tr>\n",
       "    <tr>\n",
       "      <th>35</th>\n",
       "      <td>gill-color_y</td>\n",
       "      <td>10.349508</td>\n",
       "    </tr>\n",
       "    <tr>\n",
       "      <th>26</th>\n",
       "      <td>gill-color_f</td>\n",
       "      <td>10.277161</td>\n",
       "    </tr>\n",
       "    <tr>\n",
       "      <th>...</th>\n",
       "      <td>...</td>\n",
       "      <td>...</td>\n",
       "    </tr>\n",
       "    <tr>\n",
       "      <th>58</th>\n",
       "      <td>habitat_p</td>\n",
       "      <td>1.156796</td>\n",
       "    </tr>\n",
       "    <tr>\n",
       "      <th>44</th>\n",
       "      <td>stem-color_r</td>\n",
       "      <td>1.154953</td>\n",
       "    </tr>\n",
       "    <tr>\n",
       "      <th>40</th>\n",
       "      <td>stem-color_l</td>\n",
       "      <td>1.147329</td>\n",
       "    </tr>\n",
       "    <tr>\n",
       "      <th>55</th>\n",
       "      <td>habitat_h</td>\n",
       "      <td>1.137385</td>\n",
       "    </tr>\n",
       "    <tr>\n",
       "      <th>59</th>\n",
       "      <td>habitat_u</td>\n",
       "      <td>1.068770</td>\n",
       "    </tr>\n",
       "  </tbody>\n",
       "</table>\n",
       "<p>62 rows × 2 columns</p>\n",
       "</div>"
      ],
      "text/plain": [
       "       variables        VIF\n",
       "11   cap-color_n  22.621991\n",
       "34  gill-color_w  18.031270\n",
       "29  gill-color_n  10.375532\n",
       "35  gill-color_y  10.349508\n",
       "26  gill-color_f  10.277161\n",
       "..           ...        ...\n",
       "58     habitat_p   1.156796\n",
       "44  stem-color_r   1.154953\n",
       "40  stem-color_l   1.147329\n",
       "55     habitat_h   1.137385\n",
       "59     habitat_u   1.068770\n",
       "\n",
       "[62 rows x 2 columns]"
      ]
     },
     "execution_count": 55,
     "metadata": {},
     "output_type": "execute_result"
    }
   ],
   "source": [
    "X=df1.drop(['season','cap-diameter','stem-width','add_cd_s_w','stem-height','stem-height','stem-color_w','ring-type_f'],axis=1)\n",
    "#removing column stem-color_w and ring-type_f\n",
    "calc_vif(X)"
   ]
  },
  {
   "cell_type": "code",
   "execution_count": 56,
   "id": "3da64ea4",
   "metadata": {},
   "outputs": [
    {
     "data": {
      "text/html": [
       "<div>\n",
       "<style scoped>\n",
       "    .dataframe tbody tr th:only-of-type {\n",
       "        vertical-align: middle;\n",
       "    }\n",
       "\n",
       "    .dataframe tbody tr th {\n",
       "        vertical-align: top;\n",
       "    }\n",
       "\n",
       "    .dataframe thead th {\n",
       "        text-align: right;\n",
       "    }\n",
       "</style>\n",
       "<table border=\"1\" class=\"dataframe\">\n",
       "  <thead>\n",
       "    <tr style=\"text-align: right;\">\n",
       "      <th></th>\n",
       "      <th>variables</th>\n",
       "      <th>VIF</th>\n",
       "    </tr>\n",
       "  </thead>\n",
       "  <tbody>\n",
       "    <tr>\n",
       "      <th>47</th>\n",
       "      <td>ring-type_f</td>\n",
       "      <td>24.164520</td>\n",
       "    </tr>\n",
       "    <tr>\n",
       "      <th>33</th>\n",
       "      <td>gill-color_w</td>\n",
       "      <td>11.544804</td>\n",
       "    </tr>\n",
       "    <tr>\n",
       "      <th>25</th>\n",
       "      <td>gill-color_f</td>\n",
       "      <td>9.001964</td>\n",
       "    </tr>\n",
       "    <tr>\n",
       "      <th>34</th>\n",
       "      <td>gill-color_y</td>\n",
       "      <td>7.119259</td>\n",
       "    </tr>\n",
       "    <tr>\n",
       "      <th>6</th>\n",
       "      <td>cap-shape_x</td>\n",
       "      <td>6.699798</td>\n",
       "    </tr>\n",
       "    <tr>\n",
       "      <th>...</th>\n",
       "      <td>...</td>\n",
       "      <td>...</td>\n",
       "    </tr>\n",
       "    <tr>\n",
       "      <th>39</th>\n",
       "      <td>stem-color_l</td>\n",
       "      <td>1.157390</td>\n",
       "    </tr>\n",
       "    <tr>\n",
       "      <th>43</th>\n",
       "      <td>stem-color_r</td>\n",
       "      <td>1.152361</td>\n",
       "    </tr>\n",
       "    <tr>\n",
       "      <th>9</th>\n",
       "      <td>cap-color_k</td>\n",
       "      <td>1.149523</td>\n",
       "    </tr>\n",
       "    <tr>\n",
       "      <th>55</th>\n",
       "      <td>habitat_h</td>\n",
       "      <td>1.135877</td>\n",
       "    </tr>\n",
       "    <tr>\n",
       "      <th>59</th>\n",
       "      <td>habitat_u</td>\n",
       "      <td>1.084644</td>\n",
       "    </tr>\n",
       "  </tbody>\n",
       "</table>\n",
       "<p>62 rows × 2 columns</p>\n",
       "</div>"
      ],
      "text/plain": [
       "       variables        VIF\n",
       "47   ring-type_f  24.164520\n",
       "33  gill-color_w  11.544804\n",
       "25  gill-color_f   9.001964\n",
       "34  gill-color_y   7.119259\n",
       "6    cap-shape_x   6.699798\n",
       "..           ...        ...\n",
       "39  stem-color_l   1.157390\n",
       "43  stem-color_r   1.152361\n",
       "9    cap-color_k   1.149523\n",
       "55     habitat_h   1.135877\n",
       "59     habitat_u   1.084644\n",
       "\n",
       "[62 rows x 2 columns]"
      ]
     },
     "execution_count": 56,
     "metadata": {},
     "output_type": "execute_result"
    }
   ],
   "source": [
    "X=df1.drop(['season','cap-diameter','stem-width','add_cd_s_w','stem-height','stem-height','stem-color_w','cap-color_n'],axis=1)\n",
    "#removing column stem-color_w and cap-color_n\n",
    "calc_vif(X)"
   ]
  },
  {
   "cell_type": "code",
   "execution_count": 57,
   "id": "3fef35be",
   "metadata": {},
   "outputs": [
    {
     "data": {
      "text/html": [
       "<div>\n",
       "<style scoped>\n",
       "    .dataframe tbody tr th:only-of-type {\n",
       "        vertical-align: middle;\n",
       "    }\n",
       "\n",
       "    .dataframe tbody tr th {\n",
       "        vertical-align: top;\n",
       "    }\n",
       "\n",
       "    .dataframe thead th {\n",
       "        text-align: right;\n",
       "    }\n",
       "</style>\n",
       "<table border=\"1\" class=\"dataframe\">\n",
       "  <thead>\n",
       "    <tr style=\"text-align: right;\">\n",
       "      <th></th>\n",
       "      <th>variables</th>\n",
       "      <th>VIF</th>\n",
       "    </tr>\n",
       "  </thead>\n",
       "  <tbody>\n",
       "    <tr>\n",
       "      <th>47</th>\n",
       "      <td>ring-type_f</td>\n",
       "      <td>22.833816</td>\n",
       "    </tr>\n",
       "    <tr>\n",
       "      <th>11</th>\n",
       "      <td>cap-color_n</td>\n",
       "      <td>13.686469</td>\n",
       "    </tr>\n",
       "    <tr>\n",
       "      <th>26</th>\n",
       "      <td>gill-color_f</td>\n",
       "      <td>7.001624</td>\n",
       "    </tr>\n",
       "    <tr>\n",
       "      <th>21</th>\n",
       "      <td>gill-attachment_f</td>\n",
       "      <td>6.539712</td>\n",
       "    </tr>\n",
       "    <tr>\n",
       "      <th>6</th>\n",
       "      <td>cap-shape_x</td>\n",
       "      <td>6.492925</td>\n",
       "    </tr>\n",
       "    <tr>\n",
       "      <th>...</th>\n",
       "      <td>...</td>\n",
       "      <td>...</td>\n",
       "    </tr>\n",
       "    <tr>\n",
       "      <th>58</th>\n",
       "      <td>habitat_p</td>\n",
       "      <td>1.161857</td>\n",
       "    </tr>\n",
       "    <tr>\n",
       "      <th>39</th>\n",
       "      <td>stem-color_l</td>\n",
       "      <td>1.156307</td>\n",
       "    </tr>\n",
       "    <tr>\n",
       "      <th>43</th>\n",
       "      <td>stem-color_r</td>\n",
       "      <td>1.154565</td>\n",
       "    </tr>\n",
       "    <tr>\n",
       "      <th>55</th>\n",
       "      <td>habitat_h</td>\n",
       "      <td>1.136759</td>\n",
       "    </tr>\n",
       "    <tr>\n",
       "      <th>59</th>\n",
       "      <td>habitat_u</td>\n",
       "      <td>1.084051</td>\n",
       "    </tr>\n",
       "  </tbody>\n",
       "</table>\n",
       "<p>62 rows × 2 columns</p>\n",
       "</div>"
      ],
      "text/plain": [
       "            variables        VIF\n",
       "47        ring-type_f  22.833816\n",
       "11        cap-color_n  13.686469\n",
       "26       gill-color_f   7.001624\n",
       "21  gill-attachment_f   6.539712\n",
       "6         cap-shape_x   6.492925\n",
       "..                ...        ...\n",
       "58          habitat_p   1.161857\n",
       "39       stem-color_l   1.156307\n",
       "43       stem-color_r   1.154565\n",
       "55          habitat_h   1.136759\n",
       "59          habitat_u   1.084051\n",
       "\n",
       "[62 rows x 2 columns]"
      ]
     },
     "execution_count": 57,
     "metadata": {},
     "output_type": "execute_result"
    }
   ],
   "source": [
    "X=df1.drop(['season','cap-diameter','stem-width','add_cd_s_w','stem-height','stem-height',\n",
    "            'stem-color_w','gill-color_w'],axis=1)\n",
    "#removing column stem-color_w and gill-color_w\n",
    "\n",
    "calc_vif(X)"
   ]
  },
  {
   "cell_type": "code",
   "execution_count": 58,
   "id": "b864d484",
   "metadata": {},
   "outputs": [
    {
     "data": {
      "text/html": [
       "<div>\n",
       "<style scoped>\n",
       "    .dataframe tbody tr th:only-of-type {\n",
       "        vertical-align: middle;\n",
       "    }\n",
       "\n",
       "    .dataframe tbody tr th {\n",
       "        vertical-align: top;\n",
       "    }\n",
       "\n",
       "    .dataframe thead th {\n",
       "        text-align: right;\n",
       "    }\n",
       "</style>\n",
       "<table border=\"1\" class=\"dataframe\">\n",
       "  <thead>\n",
       "    <tr style=\"text-align: right;\">\n",
       "      <th></th>\n",
       "      <th>variables</th>\n",
       "      <th>VIF</th>\n",
       "    </tr>\n",
       "  </thead>\n",
       "  <tbody>\n",
       "    <tr>\n",
       "      <th>11</th>\n",
       "      <td>cap-color_n</td>\n",
       "      <td>8.603109</td>\n",
       "    </tr>\n",
       "    <tr>\n",
       "      <th>26</th>\n",
       "      <td>gill-color_f</td>\n",
       "      <td>7.000683</td>\n",
       "    </tr>\n",
       "    <tr>\n",
       "      <th>21</th>\n",
       "      <td>gill-attachment_f</td>\n",
       "      <td>6.507479</td>\n",
       "    </tr>\n",
       "    <tr>\n",
       "      <th>6</th>\n",
       "      <td>cap-shape_x</td>\n",
       "      <td>5.945967</td>\n",
       "    </tr>\n",
       "    <tr>\n",
       "      <th>17</th>\n",
       "      <td>cap-color_y</td>\n",
       "      <td>4.033079</td>\n",
       "    </tr>\n",
       "    <tr>\n",
       "      <th>...</th>\n",
       "      <td>...</td>\n",
       "      <td>...</td>\n",
       "    </tr>\n",
       "    <tr>\n",
       "      <th>57</th>\n",
       "      <td>habitat_p</td>\n",
       "      <td>1.156364</td>\n",
       "    </tr>\n",
       "    <tr>\n",
       "      <th>43</th>\n",
       "      <td>stem-color_r</td>\n",
       "      <td>1.154170</td>\n",
       "    </tr>\n",
       "    <tr>\n",
       "      <th>39</th>\n",
       "      <td>stem-color_l</td>\n",
       "      <td>1.147252</td>\n",
       "    </tr>\n",
       "    <tr>\n",
       "      <th>54</th>\n",
       "      <td>habitat_h</td>\n",
       "      <td>1.136704</td>\n",
       "    </tr>\n",
       "    <tr>\n",
       "      <th>58</th>\n",
       "      <td>habitat_u</td>\n",
       "      <td>1.068648</td>\n",
       "    </tr>\n",
       "  </tbody>\n",
       "</table>\n",
       "<p>61 rows × 2 columns</p>\n",
       "</div>"
      ],
      "text/plain": [
       "            variables       VIF\n",
       "11        cap-color_n  8.603109\n",
       "26       gill-color_f  7.000683\n",
       "21  gill-attachment_f  6.507479\n",
       "6         cap-shape_x  5.945967\n",
       "17        cap-color_y  4.033079\n",
       "..                ...       ...\n",
       "57          habitat_p  1.156364\n",
       "43       stem-color_r  1.154170\n",
       "39       stem-color_l  1.147252\n",
       "54          habitat_h  1.136704\n",
       "58          habitat_u  1.068648\n",
       "\n",
       "[61 rows x 2 columns]"
      ]
     },
     "execution_count": 58,
     "metadata": {},
     "output_type": "execute_result"
    }
   ],
   "source": [
    "X=df1.drop(['season','cap-diameter','stem-width','add_cd_s_w','stem-height','stem-height',\n",
    "            'stem-color_w','gill-color_w','ring-type_f'],axis=1)\n",
    "#removing column stem-color_w, gill-color_w and 'ring-type_f\n",
    "calc_vif(X)"
   ]
  },
  {
   "cell_type": "code",
   "execution_count": 59,
   "id": "4b62c53e",
   "metadata": {},
   "outputs": [
    {
     "data": {
      "text/html": [
       "<div>\n",
       "<style scoped>\n",
       "    .dataframe tbody tr th:only-of-type {\n",
       "        vertical-align: middle;\n",
       "    }\n",
       "\n",
       "    .dataframe tbody tr th {\n",
       "        vertical-align: top;\n",
       "    }\n",
       "\n",
       "    .dataframe thead th {\n",
       "        text-align: right;\n",
       "    }\n",
       "</style>\n",
       "<table border=\"1\" class=\"dataframe\">\n",
       "  <thead>\n",
       "    <tr style=\"text-align: right;\">\n",
       "      <th></th>\n",
       "      <th>variables</th>\n",
       "      <th>VIF</th>\n",
       "    </tr>\n",
       "  </thead>\n",
       "  <tbody>\n",
       "    <tr>\n",
       "      <th>6</th>\n",
       "      <td>cap-shape_x</td>\n",
       "      <td>5.957608</td>\n",
       "    </tr>\n",
       "    <tr>\n",
       "      <th>32</th>\n",
       "      <td>gill-color_w</td>\n",
       "      <td>5.853088</td>\n",
       "    </tr>\n",
       "    <tr>\n",
       "      <th>33</th>\n",
       "      <td>gill-color_y</td>\n",
       "      <td>4.042167</td>\n",
       "    </tr>\n",
       "    <tr>\n",
       "      <th>27</th>\n",
       "      <td>gill-color_n</td>\n",
       "      <td>3.587460</td>\n",
       "    </tr>\n",
       "    <tr>\n",
       "      <th>2</th>\n",
       "      <td>cap-shape_f</td>\n",
       "      <td>3.434432</td>\n",
       "    </tr>\n",
       "    <tr>\n",
       "      <th>45</th>\n",
       "      <td>has-ring_t</td>\n",
       "      <td>3.105284</td>\n",
       "    </tr>\n",
       "    <tr>\n",
       "      <th>59</th>\n",
       "      <td>mul_add_cd_s_w_sh</td>\n",
       "      <td>3.026411</td>\n",
       "    </tr>\n",
       "    <tr>\n",
       "      <th>0</th>\n",
       "      <td>edible-poisonous_p</td>\n",
       "      <td>2.992234</td>\n",
       "    </tr>\n",
       "    <tr>\n",
       "      <th>29</th>\n",
       "      <td>gill-color_p</td>\n",
       "      <td>2.988749</td>\n",
       "    </tr>\n",
       "    <tr>\n",
       "      <th>5</th>\n",
       "      <td>cap-shape_s</td>\n",
       "      <td>2.775728</td>\n",
       "    </tr>\n",
       "    <tr>\n",
       "      <th>3</th>\n",
       "      <td>cap-shape_o</td>\n",
       "      <td>2.612567</td>\n",
       "    </tr>\n",
       "    <tr>\n",
       "      <th>39</th>\n",
       "      <td>stem-color_n</td>\n",
       "      <td>2.585745</td>\n",
       "    </tr>\n",
       "    <tr>\n",
       "      <th>18</th>\n",
       "      <td>gill-attachment_d</td>\n",
       "      <td>2.515470</td>\n",
       "    </tr>\n",
       "    <tr>\n",
       "      <th>20</th>\n",
       "      <td>gill-attachment_f</td>\n",
       "      <td>2.315393</td>\n",
       "    </tr>\n",
       "    <tr>\n",
       "      <th>21</th>\n",
       "      <td>gill-attachment_p</td>\n",
       "      <td>2.200188</td>\n",
       "    </tr>\n",
       "    <tr>\n",
       "      <th>28</th>\n",
       "      <td>gill-color_o</td>\n",
       "      <td>2.028862</td>\n",
       "    </tr>\n",
       "    <tr>\n",
       "      <th>19</th>\n",
       "      <td>gill-attachment_e</td>\n",
       "      <td>1.990290</td>\n",
       "    </tr>\n",
       "    <tr>\n",
       "      <th>44</th>\n",
       "      <td>stem-color_y</td>\n",
       "      <td>1.910578</td>\n",
       "    </tr>\n",
       "    <tr>\n",
       "      <th>25</th>\n",
       "      <td>gill-color_g</td>\n",
       "      <td>1.866575</td>\n",
       "    </tr>\n",
       "    <tr>\n",
       "      <th>23</th>\n",
       "      <td>gill-attachment_x</td>\n",
       "      <td>1.799105</td>\n",
       "    </tr>\n",
       "    <tr>\n",
       "      <th>17</th>\n",
       "      <td>does-bruise-or-bleed_t</td>\n",
       "      <td>1.775433</td>\n",
       "    </tr>\n",
       "    <tr>\n",
       "      <th>16</th>\n",
       "      <td>cap-color_y</td>\n",
       "      <td>1.689445</td>\n",
       "    </tr>\n",
       "    <tr>\n",
       "      <th>15</th>\n",
       "      <td>cap-color_w</td>\n",
       "      <td>1.683140</td>\n",
       "    </tr>\n",
       "    <tr>\n",
       "      <th>35</th>\n",
       "      <td>stem-color_f</td>\n",
       "      <td>1.670052</td>\n",
       "    </tr>\n",
       "    <tr>\n",
       "      <th>4</th>\n",
       "      <td>cap-shape_p</td>\n",
       "      <td>1.652578</td>\n",
       "    </tr>\n",
       "    <tr>\n",
       "      <th>41</th>\n",
       "      <td>stem-color_p</td>\n",
       "      <td>1.645514</td>\n",
       "    </tr>\n",
       "    <tr>\n",
       "      <th>22</th>\n",
       "      <td>gill-attachment_s</td>\n",
       "      <td>1.644032</td>\n",
       "    </tr>\n",
       "    <tr>\n",
       "      <th>12</th>\n",
       "      <td>cap-color_p</td>\n",
       "      <td>1.577113</td>\n",
       "    </tr>\n",
       "    <tr>\n",
       "      <th>51</th>\n",
       "      <td>ring-type_z</td>\n",
       "      <td>1.549857</td>\n",
       "    </tr>\n",
       "    <tr>\n",
       "      <th>30</th>\n",
       "      <td>gill-color_r</td>\n",
       "      <td>1.536382</td>\n",
       "    </tr>\n",
       "    <tr>\n",
       "      <th>24</th>\n",
       "      <td>gill-color_e</td>\n",
       "      <td>1.522683</td>\n",
       "    </tr>\n",
       "    <tr>\n",
       "      <th>26</th>\n",
       "      <td>gill-color_k</td>\n",
       "      <td>1.511633</td>\n",
       "    </tr>\n",
       "    <tr>\n",
       "      <th>11</th>\n",
       "      <td>cap-color_o</td>\n",
       "      <td>1.478259</td>\n",
       "    </tr>\n",
       "    <tr>\n",
       "      <th>34</th>\n",
       "      <td>stem-color_e</td>\n",
       "      <td>1.460932</td>\n",
       "    </tr>\n",
       "    <tr>\n",
       "      <th>47</th>\n",
       "      <td>ring-type_l</td>\n",
       "      <td>1.455923</td>\n",
       "    </tr>\n",
       "    <tr>\n",
       "      <th>40</th>\n",
       "      <td>stem-color_o</td>\n",
       "      <td>1.449603</td>\n",
       "    </tr>\n",
       "    <tr>\n",
       "      <th>52</th>\n",
       "      <td>habitat_g</td>\n",
       "      <td>1.444530</td>\n",
       "    </tr>\n",
       "    <tr>\n",
       "      <th>1</th>\n",
       "      <td>cap-shape_c</td>\n",
       "      <td>1.416534</td>\n",
       "    </tr>\n",
       "    <tr>\n",
       "      <th>50</th>\n",
       "      <td>ring-type_r</td>\n",
       "      <td>1.406319</td>\n",
       "    </tr>\n",
       "    <tr>\n",
       "      <th>8</th>\n",
       "      <td>cap-color_g</td>\n",
       "      <td>1.382829</td>\n",
       "    </tr>\n",
       "    <tr>\n",
       "      <th>7</th>\n",
       "      <td>cap-color_e</td>\n",
       "      <td>1.381569</td>\n",
       "    </tr>\n",
       "    <tr>\n",
       "      <th>43</th>\n",
       "      <td>stem-color_u</td>\n",
       "      <td>1.378290</td>\n",
       "    </tr>\n",
       "    <tr>\n",
       "      <th>14</th>\n",
       "      <td>cap-color_u</td>\n",
       "      <td>1.378040</td>\n",
       "    </tr>\n",
       "    <tr>\n",
       "      <th>31</th>\n",
       "      <td>gill-color_u</td>\n",
       "      <td>1.372845</td>\n",
       "    </tr>\n",
       "    <tr>\n",
       "      <th>46</th>\n",
       "      <td>ring-type_g</td>\n",
       "      <td>1.366910</td>\n",
       "    </tr>\n",
       "    <tr>\n",
       "      <th>49</th>\n",
       "      <td>ring-type_p</td>\n",
       "      <td>1.349014</td>\n",
       "    </tr>\n",
       "    <tr>\n",
       "      <th>36</th>\n",
       "      <td>stem-color_g</td>\n",
       "      <td>1.323002</td>\n",
       "    </tr>\n",
       "    <tr>\n",
       "      <th>55</th>\n",
       "      <td>habitat_m</td>\n",
       "      <td>1.306358</td>\n",
       "    </tr>\n",
       "    <tr>\n",
       "      <th>58</th>\n",
       "      <td>habitat_w</td>\n",
       "      <td>1.257267</td>\n",
       "    </tr>\n",
       "    <tr>\n",
       "      <th>48</th>\n",
       "      <td>ring-type_m</td>\n",
       "      <td>1.255153</td>\n",
       "    </tr>\n",
       "    <tr>\n",
       "      <th>13</th>\n",
       "      <td>cap-color_r</td>\n",
       "      <td>1.236994</td>\n",
       "    </tr>\n",
       "    <tr>\n",
       "      <th>54</th>\n",
       "      <td>habitat_l</td>\n",
       "      <td>1.223842</td>\n",
       "    </tr>\n",
       "    <tr>\n",
       "      <th>37</th>\n",
       "      <td>stem-color_k</td>\n",
       "      <td>1.172042</td>\n",
       "    </tr>\n",
       "    <tr>\n",
       "      <th>10</th>\n",
       "      <td>cap-color_l</td>\n",
       "      <td>1.157411</td>\n",
       "    </tr>\n",
       "    <tr>\n",
       "      <th>56</th>\n",
       "      <td>habitat_p</td>\n",
       "      <td>1.151723</td>\n",
       "    </tr>\n",
       "    <tr>\n",
       "      <th>42</th>\n",
       "      <td>stem-color_r</td>\n",
       "      <td>1.149328</td>\n",
       "    </tr>\n",
       "    <tr>\n",
       "      <th>38</th>\n",
       "      <td>stem-color_l</td>\n",
       "      <td>1.146612</td>\n",
       "    </tr>\n",
       "    <tr>\n",
       "      <th>9</th>\n",
       "      <td>cap-color_k</td>\n",
       "      <td>1.141451</td>\n",
       "    </tr>\n",
       "    <tr>\n",
       "      <th>53</th>\n",
       "      <td>habitat_h</td>\n",
       "      <td>1.135219</td>\n",
       "    </tr>\n",
       "    <tr>\n",
       "      <th>57</th>\n",
       "      <td>habitat_u</td>\n",
       "      <td>1.068576</td>\n",
       "    </tr>\n",
       "  </tbody>\n",
       "</table>\n",
       "</div>"
      ],
      "text/plain": [
       "                 variables       VIF\n",
       "6              cap-shape_x  5.957608\n",
       "32            gill-color_w  5.853088\n",
       "33            gill-color_y  4.042167\n",
       "27            gill-color_n  3.587460\n",
       "2              cap-shape_f  3.434432\n",
       "45              has-ring_t  3.105284\n",
       "59       mul_add_cd_s_w_sh  3.026411\n",
       "0       edible-poisonous_p  2.992234\n",
       "29            gill-color_p  2.988749\n",
       "5              cap-shape_s  2.775728\n",
       "3              cap-shape_o  2.612567\n",
       "39            stem-color_n  2.585745\n",
       "18       gill-attachment_d  2.515470\n",
       "20       gill-attachment_f  2.315393\n",
       "21       gill-attachment_p  2.200188\n",
       "28            gill-color_o  2.028862\n",
       "19       gill-attachment_e  1.990290\n",
       "44            stem-color_y  1.910578\n",
       "25            gill-color_g  1.866575\n",
       "23       gill-attachment_x  1.799105\n",
       "17  does-bruise-or-bleed_t  1.775433\n",
       "16             cap-color_y  1.689445\n",
       "15             cap-color_w  1.683140\n",
       "35            stem-color_f  1.670052\n",
       "4              cap-shape_p  1.652578\n",
       "41            stem-color_p  1.645514\n",
       "22       gill-attachment_s  1.644032\n",
       "12             cap-color_p  1.577113\n",
       "51             ring-type_z  1.549857\n",
       "30            gill-color_r  1.536382\n",
       "24            gill-color_e  1.522683\n",
       "26            gill-color_k  1.511633\n",
       "11             cap-color_o  1.478259\n",
       "34            stem-color_e  1.460932\n",
       "47             ring-type_l  1.455923\n",
       "40            stem-color_o  1.449603\n",
       "52               habitat_g  1.444530\n",
       "1              cap-shape_c  1.416534\n",
       "50             ring-type_r  1.406319\n",
       "8              cap-color_g  1.382829\n",
       "7              cap-color_e  1.381569\n",
       "43            stem-color_u  1.378290\n",
       "14             cap-color_u  1.378040\n",
       "31            gill-color_u  1.372845\n",
       "46             ring-type_g  1.366910\n",
       "49             ring-type_p  1.349014\n",
       "36            stem-color_g  1.323002\n",
       "55               habitat_m  1.306358\n",
       "58               habitat_w  1.257267\n",
       "48             ring-type_m  1.255153\n",
       "13             cap-color_r  1.236994\n",
       "54               habitat_l  1.223842\n",
       "37            stem-color_k  1.172042\n",
       "10             cap-color_l  1.157411\n",
       "56               habitat_p  1.151723\n",
       "42            stem-color_r  1.149328\n",
       "38            stem-color_l  1.146612\n",
       "9              cap-color_k  1.141451\n",
       "53               habitat_h  1.135219\n",
       "57               habitat_u  1.068576"
      ]
     },
     "execution_count": 59,
     "metadata": {},
     "output_type": "execute_result"
    }
   ],
   "source": [
    "X=df1.drop(['season','cap-diameter','stem-width','add_cd_s_w','stem-height','stem-height',\n",
    "            'stem-color_w','cap-color_n','ring-type_f','gill-color_f'],axis=1)\n",
    "#removing column stem-color_w, gill-color_w ,'ring-type_f and gill-color_f\n",
    "calc_vif(X)"
   ]
  },
  {
   "cell_type": "code",
   "execution_count": 60,
   "id": "7418806b",
   "metadata": {},
   "outputs": [
    {
     "data": {
      "text/html": [
       "<div>\n",
       "<style scoped>\n",
       "    .dataframe tbody tr th:only-of-type {\n",
       "        vertical-align: middle;\n",
       "    }\n",
       "\n",
       "    .dataframe tbody tr th {\n",
       "        vertical-align: top;\n",
       "    }\n",
       "\n",
       "    .dataframe thead th {\n",
       "        text-align: right;\n",
       "    }\n",
       "</style>\n",
       "<table border=\"1\" class=\"dataframe\">\n",
       "  <thead>\n",
       "    <tr style=\"text-align: right;\">\n",
       "      <th></th>\n",
       "      <th>variables</th>\n",
       "      <th>VIF</th>\n",
       "    </tr>\n",
       "  </thead>\n",
       "  <tbody>\n",
       "    <tr>\n",
       "      <th>31</th>\n",
       "      <td>gill-color_w</td>\n",
       "      <td>3.948796</td>\n",
       "    </tr>\n",
       "    <tr>\n",
       "      <th>32</th>\n",
       "      <td>gill-color_y</td>\n",
       "      <td>3.159002</td>\n",
       "    </tr>\n",
       "    <tr>\n",
       "      <th>44</th>\n",
       "      <td>has-ring_t</td>\n",
       "      <td>3.105059</td>\n",
       "    </tr>\n",
       "    <tr>\n",
       "      <th>58</th>\n",
       "      <td>mul_add_cd_s_w_sh</td>\n",
       "      <td>2.985442</td>\n",
       "    </tr>\n",
       "    <tr>\n",
       "      <th>0</th>\n",
       "      <td>edible-poisonous_p</td>\n",
       "      <td>2.943308</td>\n",
       "    </tr>\n",
       "    <tr>\n",
       "      <th>26</th>\n",
       "      <td>gill-color_n</td>\n",
       "      <td>2.740221</td>\n",
       "    </tr>\n",
       "    <tr>\n",
       "      <th>38</th>\n",
       "      <td>stem-color_n</td>\n",
       "      <td>2.563858</td>\n",
       "    </tr>\n",
       "    <tr>\n",
       "      <th>17</th>\n",
       "      <td>gill-attachment_d</td>\n",
       "      <td>2.494726</td>\n",
       "    </tr>\n",
       "    <tr>\n",
       "      <th>28</th>\n",
       "      <td>gill-color_p</td>\n",
       "      <td>2.352887</td>\n",
       "    </tr>\n",
       "    <tr>\n",
       "      <th>3</th>\n",
       "      <td>cap-shape_o</td>\n",
       "      <td>2.201270</td>\n",
       "    </tr>\n",
       "    <tr>\n",
       "      <th>20</th>\n",
       "      <td>gill-attachment_p</td>\n",
       "      <td>2.191686</td>\n",
       "    </tr>\n",
       "    <tr>\n",
       "      <th>19</th>\n",
       "      <td>gill-attachment_f</td>\n",
       "      <td>2.043761</td>\n",
       "    </tr>\n",
       "    <tr>\n",
       "      <th>18</th>\n",
       "      <td>gill-attachment_e</td>\n",
       "      <td>1.990019</td>\n",
       "    </tr>\n",
       "    <tr>\n",
       "      <th>43</th>\n",
       "      <td>stem-color_y</td>\n",
       "      <td>1.893485</td>\n",
       "    </tr>\n",
       "    <tr>\n",
       "      <th>22</th>\n",
       "      <td>gill-attachment_x</td>\n",
       "      <td>1.791162</td>\n",
       "    </tr>\n",
       "    <tr>\n",
       "      <th>16</th>\n",
       "      <td>does-bruise-or-bleed_t</td>\n",
       "      <td>1.754603</td>\n",
       "    </tr>\n",
       "    <tr>\n",
       "      <th>27</th>\n",
       "      <td>gill-color_o</td>\n",
       "      <td>1.738054</td>\n",
       "    </tr>\n",
       "    <tr>\n",
       "      <th>5</th>\n",
       "      <td>cap-shape_s</td>\n",
       "      <td>1.724805</td>\n",
       "    </tr>\n",
       "    <tr>\n",
       "      <th>14</th>\n",
       "      <td>cap-color_w</td>\n",
       "      <td>1.681335</td>\n",
       "    </tr>\n",
       "    <tr>\n",
       "      <th>15</th>\n",
       "      <td>cap-color_y</td>\n",
       "      <td>1.677102</td>\n",
       "    </tr>\n",
       "    <tr>\n",
       "      <th>24</th>\n",
       "      <td>gill-color_g</td>\n",
       "      <td>1.674421</td>\n",
       "    </tr>\n",
       "    <tr>\n",
       "      <th>34</th>\n",
       "      <td>stem-color_f</td>\n",
       "      <td>1.665036</td>\n",
       "    </tr>\n",
       "    <tr>\n",
       "      <th>40</th>\n",
       "      <td>stem-color_p</td>\n",
       "      <td>1.645129</td>\n",
       "    </tr>\n",
       "    <tr>\n",
       "      <th>2</th>\n",
       "      <td>cap-shape_f</td>\n",
       "      <td>1.626419</td>\n",
       "    </tr>\n",
       "    <tr>\n",
       "      <th>21</th>\n",
       "      <td>gill-attachment_s</td>\n",
       "      <td>1.622102</td>\n",
       "    </tr>\n",
       "    <tr>\n",
       "      <th>11</th>\n",
       "      <td>cap-color_p</td>\n",
       "      <td>1.576697</td>\n",
       "    </tr>\n",
       "    <tr>\n",
       "      <th>50</th>\n",
       "      <td>ring-type_z</td>\n",
       "      <td>1.544449</td>\n",
       "    </tr>\n",
       "    <tr>\n",
       "      <th>10</th>\n",
       "      <td>cap-color_o</td>\n",
       "      <td>1.473548</td>\n",
       "    </tr>\n",
       "    <tr>\n",
       "      <th>46</th>\n",
       "      <td>ring-type_l</td>\n",
       "      <td>1.454406</td>\n",
       "    </tr>\n",
       "    <tr>\n",
       "      <th>33</th>\n",
       "      <td>stem-color_e</td>\n",
       "      <td>1.451065</td>\n",
       "    </tr>\n",
       "    <tr>\n",
       "      <th>51</th>\n",
       "      <td>habitat_g</td>\n",
       "      <td>1.441164</td>\n",
       "    </tr>\n",
       "    <tr>\n",
       "      <th>39</th>\n",
       "      <td>stem-color_o</td>\n",
       "      <td>1.434596</td>\n",
       "    </tr>\n",
       "    <tr>\n",
       "      <th>25</th>\n",
       "      <td>gill-color_k</td>\n",
       "      <td>1.417683</td>\n",
       "    </tr>\n",
       "    <tr>\n",
       "      <th>29</th>\n",
       "      <td>gill-color_r</td>\n",
       "      <td>1.413997</td>\n",
       "    </tr>\n",
       "    <tr>\n",
       "      <th>23</th>\n",
       "      <td>gill-color_e</td>\n",
       "      <td>1.398829</td>\n",
       "    </tr>\n",
       "    <tr>\n",
       "      <th>49</th>\n",
       "      <td>ring-type_r</td>\n",
       "      <td>1.398004</td>\n",
       "    </tr>\n",
       "    <tr>\n",
       "      <th>7</th>\n",
       "      <td>cap-color_g</td>\n",
       "      <td>1.377703</td>\n",
       "    </tr>\n",
       "    <tr>\n",
       "      <th>42</th>\n",
       "      <td>stem-color_u</td>\n",
       "      <td>1.376473</td>\n",
       "    </tr>\n",
       "    <tr>\n",
       "      <th>13</th>\n",
       "      <td>cap-color_u</td>\n",
       "      <td>1.374183</td>\n",
       "    </tr>\n",
       "    <tr>\n",
       "      <th>6</th>\n",
       "      <td>cap-color_e</td>\n",
       "      <td>1.372452</td>\n",
       "    </tr>\n",
       "    <tr>\n",
       "      <th>45</th>\n",
       "      <td>ring-type_g</td>\n",
       "      <td>1.365636</td>\n",
       "    </tr>\n",
       "    <tr>\n",
       "      <th>48</th>\n",
       "      <td>ring-type_p</td>\n",
       "      <td>1.346775</td>\n",
       "    </tr>\n",
       "    <tr>\n",
       "      <th>4</th>\n",
       "      <td>cap-shape_p</td>\n",
       "      <td>1.322539</td>\n",
       "    </tr>\n",
       "    <tr>\n",
       "      <th>35</th>\n",
       "      <td>stem-color_g</td>\n",
       "      <td>1.320571</td>\n",
       "    </tr>\n",
       "    <tr>\n",
       "      <th>30</th>\n",
       "      <td>gill-color_u</td>\n",
       "      <td>1.308913</td>\n",
       "    </tr>\n",
       "    <tr>\n",
       "      <th>54</th>\n",
       "      <td>habitat_m</td>\n",
       "      <td>1.302243</td>\n",
       "    </tr>\n",
       "    <tr>\n",
       "      <th>57</th>\n",
       "      <td>habitat_w</td>\n",
       "      <td>1.256888</td>\n",
       "    </tr>\n",
       "    <tr>\n",
       "      <th>47</th>\n",
       "      <td>ring-type_m</td>\n",
       "      <td>1.250706</td>\n",
       "    </tr>\n",
       "    <tr>\n",
       "      <th>12</th>\n",
       "      <td>cap-color_r</td>\n",
       "      <td>1.235658</td>\n",
       "    </tr>\n",
       "    <tr>\n",
       "      <th>53</th>\n",
       "      <td>habitat_l</td>\n",
       "      <td>1.220117</td>\n",
       "    </tr>\n",
       "    <tr>\n",
       "      <th>1</th>\n",
       "      <td>cap-shape_c</td>\n",
       "      <td>1.201005</td>\n",
       "    </tr>\n",
       "    <tr>\n",
       "      <th>36</th>\n",
       "      <td>stem-color_k</td>\n",
       "      <td>1.168711</td>\n",
       "    </tr>\n",
       "    <tr>\n",
       "      <th>9</th>\n",
       "      <td>cap-color_l</td>\n",
       "      <td>1.151991</td>\n",
       "    </tr>\n",
       "    <tr>\n",
       "      <th>55</th>\n",
       "      <td>habitat_p</td>\n",
       "      <td>1.150466</td>\n",
       "    </tr>\n",
       "    <tr>\n",
       "      <th>41</th>\n",
       "      <td>stem-color_r</td>\n",
       "      <td>1.149135</td>\n",
       "    </tr>\n",
       "    <tr>\n",
       "      <th>37</th>\n",
       "      <td>stem-color_l</td>\n",
       "      <td>1.146606</td>\n",
       "    </tr>\n",
       "    <tr>\n",
       "      <th>8</th>\n",
       "      <td>cap-color_k</td>\n",
       "      <td>1.140354</td>\n",
       "    </tr>\n",
       "    <tr>\n",
       "      <th>52</th>\n",
       "      <td>habitat_h</td>\n",
       "      <td>1.134642</td>\n",
       "    </tr>\n",
       "    <tr>\n",
       "      <th>56</th>\n",
       "      <td>habitat_u</td>\n",
       "      <td>1.068559</td>\n",
       "    </tr>\n",
       "  </tbody>\n",
       "</table>\n",
       "</div>"
      ],
      "text/plain": [
       "                 variables       VIF\n",
       "31            gill-color_w  3.948796\n",
       "32            gill-color_y  3.159002\n",
       "44              has-ring_t  3.105059\n",
       "58       mul_add_cd_s_w_sh  2.985442\n",
       "0       edible-poisonous_p  2.943308\n",
       "26            gill-color_n  2.740221\n",
       "38            stem-color_n  2.563858\n",
       "17       gill-attachment_d  2.494726\n",
       "28            gill-color_p  2.352887\n",
       "3              cap-shape_o  2.201270\n",
       "20       gill-attachment_p  2.191686\n",
       "19       gill-attachment_f  2.043761\n",
       "18       gill-attachment_e  1.990019\n",
       "43            stem-color_y  1.893485\n",
       "22       gill-attachment_x  1.791162\n",
       "16  does-bruise-or-bleed_t  1.754603\n",
       "27            gill-color_o  1.738054\n",
       "5              cap-shape_s  1.724805\n",
       "14             cap-color_w  1.681335\n",
       "15             cap-color_y  1.677102\n",
       "24            gill-color_g  1.674421\n",
       "34            stem-color_f  1.665036\n",
       "40            stem-color_p  1.645129\n",
       "2              cap-shape_f  1.626419\n",
       "21       gill-attachment_s  1.622102\n",
       "11             cap-color_p  1.576697\n",
       "50             ring-type_z  1.544449\n",
       "10             cap-color_o  1.473548\n",
       "46             ring-type_l  1.454406\n",
       "33            stem-color_e  1.451065\n",
       "51               habitat_g  1.441164\n",
       "39            stem-color_o  1.434596\n",
       "25            gill-color_k  1.417683\n",
       "29            gill-color_r  1.413997\n",
       "23            gill-color_e  1.398829\n",
       "49             ring-type_r  1.398004\n",
       "7              cap-color_g  1.377703\n",
       "42            stem-color_u  1.376473\n",
       "13             cap-color_u  1.374183\n",
       "6              cap-color_e  1.372452\n",
       "45             ring-type_g  1.365636\n",
       "48             ring-type_p  1.346775\n",
       "4              cap-shape_p  1.322539\n",
       "35            stem-color_g  1.320571\n",
       "30            gill-color_u  1.308913\n",
       "54               habitat_m  1.302243\n",
       "57               habitat_w  1.256888\n",
       "47             ring-type_m  1.250706\n",
       "12             cap-color_r  1.235658\n",
       "53               habitat_l  1.220117\n",
       "1              cap-shape_c  1.201005\n",
       "36            stem-color_k  1.168711\n",
       "9              cap-color_l  1.151991\n",
       "55               habitat_p  1.150466\n",
       "41            stem-color_r  1.149135\n",
       "37            stem-color_l  1.146606\n",
       "8              cap-color_k  1.140354\n",
       "52               habitat_h  1.134642\n",
       "56               habitat_u  1.068559"
      ]
     },
     "execution_count": 60,
     "metadata": {},
     "output_type": "execute_result"
    }
   ],
   "source": [
    "X=df1.drop(['season','cap-diameter','stem-width','add_cd_s_w','stem-height','stem-height',\n",
    "            'stem-color_w','cap-color_n','ring-type_f','gill-color_f','cap-shape_x'],axis=1)\n",
    "#removing column stem-color_w, gill-color_w ,'ring-type_f , gill-color_f and cap-shape_x\n",
    "calc_vif(X)"
   ]
  },
  {
   "cell_type": "markdown",
   "id": "d19ec631",
   "metadata": {},
   "source": [
    "maximum VIF is less than 5 so Aceepting the the columns present in X df"
   ]
  },
  {
   "cell_type": "code",
   "execution_count": 61,
   "id": "88e40a9f",
   "metadata": {
    "scrolled": true
   },
   "outputs": [
    {
     "data": {
      "text/html": [
       "<div>\n",
       "<style scoped>\n",
       "    .dataframe tbody tr th:only-of-type {\n",
       "        vertical-align: middle;\n",
       "    }\n",
       "\n",
       "    .dataframe tbody tr th {\n",
       "        vertical-align: top;\n",
       "    }\n",
       "\n",
       "    .dataframe thead th {\n",
       "        text-align: right;\n",
       "    }\n",
       "</style>\n",
       "<table border=\"1\" class=\"dataframe\">\n",
       "  <thead>\n",
       "    <tr style=\"text-align: right;\">\n",
       "      <th></th>\n",
       "      <th>edible-poisonous_p</th>\n",
       "      <th>cap-shape_c</th>\n",
       "      <th>cap-shape_f</th>\n",
       "      <th>cap-shape_o</th>\n",
       "      <th>cap-shape_p</th>\n",
       "      <th>cap-shape_s</th>\n",
       "      <th>cap-color_e</th>\n",
       "      <th>cap-color_g</th>\n",
       "      <th>cap-color_k</th>\n",
       "      <th>cap-color_l</th>\n",
       "      <th>...</th>\n",
       "      <th>ring-type_r</th>\n",
       "      <th>ring-type_z</th>\n",
       "      <th>habitat_g</th>\n",
       "      <th>habitat_h</th>\n",
       "      <th>habitat_l</th>\n",
       "      <th>habitat_m</th>\n",
       "      <th>habitat_p</th>\n",
       "      <th>habitat_u</th>\n",
       "      <th>habitat_w</th>\n",
       "      <th>mul_add_cd_s_w_sh</th>\n",
       "    </tr>\n",
       "  </thead>\n",
       "  <tbody>\n",
       "    <tr>\n",
       "      <th>0</th>\n",
       "      <td>1</td>\n",
       "      <td>0</td>\n",
       "      <td>0</td>\n",
       "      <td>0</td>\n",
       "      <td>0</td>\n",
       "      <td>0</td>\n",
       "      <td>0</td>\n",
       "      <td>0</td>\n",
       "      <td>0</td>\n",
       "      <td>0</td>\n",
       "      <td>...</td>\n",
       "      <td>0</td>\n",
       "      <td>0</td>\n",
       "      <td>0</td>\n",
       "      <td>0</td>\n",
       "      <td>0</td>\n",
       "      <td>0</td>\n",
       "      <td>0</td>\n",
       "      <td>0</td>\n",
       "      <td>0</td>\n",
       "      <td>126.7684</td>\n",
       "    </tr>\n",
       "    <tr>\n",
       "      <th>1</th>\n",
       "      <td>1</td>\n",
       "      <td>0</td>\n",
       "      <td>0</td>\n",
       "      <td>1</td>\n",
       "      <td>0</td>\n",
       "      <td>0</td>\n",
       "      <td>0</td>\n",
       "      <td>1</td>\n",
       "      <td>0</td>\n",
       "      <td>0</td>\n",
       "      <td>...</td>\n",
       "      <td>0</td>\n",
       "      <td>0</td>\n",
       "      <td>0</td>\n",
       "      <td>0</td>\n",
       "      <td>0</td>\n",
       "      <td>0</td>\n",
       "      <td>0</td>\n",
       "      <td>0</td>\n",
       "      <td>0</td>\n",
       "      <td>0.0000</td>\n",
       "    </tr>\n",
       "    <tr>\n",
       "      <th>2</th>\n",
       "      <td>1</td>\n",
       "      <td>1</td>\n",
       "      <td>0</td>\n",
       "      <td>0</td>\n",
       "      <td>0</td>\n",
       "      <td>0</td>\n",
       "      <td>0</td>\n",
       "      <td>0</td>\n",
       "      <td>0</td>\n",
       "      <td>0</td>\n",
       "      <td>...</td>\n",
       "      <td>0</td>\n",
       "      <td>0</td>\n",
       "      <td>0</td>\n",
       "      <td>0</td>\n",
       "      <td>0</td>\n",
       "      <td>0</td>\n",
       "      <td>0</td>\n",
       "      <td>0</td>\n",
       "      <td>0</td>\n",
       "      <td>92.2242</td>\n",
       "    </tr>\n",
       "    <tr>\n",
       "      <th>3</th>\n",
       "      <td>1</td>\n",
       "      <td>0</td>\n",
       "      <td>0</td>\n",
       "      <td>0</td>\n",
       "      <td>0</td>\n",
       "      <td>0</td>\n",
       "      <td>0</td>\n",
       "      <td>0</td>\n",
       "      <td>0</td>\n",
       "      <td>0</td>\n",
       "      <td>...</td>\n",
       "      <td>0</td>\n",
       "      <td>0</td>\n",
       "      <td>0</td>\n",
       "      <td>0</td>\n",
       "      <td>0</td>\n",
       "      <td>0</td>\n",
       "      <td>0</td>\n",
       "      <td>0</td>\n",
       "      <td>0</td>\n",
       "      <td>7.4476</td>\n",
       "    </tr>\n",
       "    <tr>\n",
       "      <th>4</th>\n",
       "      <td>1</td>\n",
       "      <td>0</td>\n",
       "      <td>0</td>\n",
       "      <td>0</td>\n",
       "      <td>0</td>\n",
       "      <td>0</td>\n",
       "      <td>0</td>\n",
       "      <td>0</td>\n",
       "      <td>0</td>\n",
       "      <td>0</td>\n",
       "      <td>...</td>\n",
       "      <td>0</td>\n",
       "      <td>0</td>\n",
       "      <td>0</td>\n",
       "      <td>0</td>\n",
       "      <td>0</td>\n",
       "      <td>0</td>\n",
       "      <td>0</td>\n",
       "      <td>0</td>\n",
       "      <td>0</td>\n",
       "      <td>413.2208</td>\n",
       "    </tr>\n",
       "  </tbody>\n",
       "</table>\n",
       "<p>5 rows × 59 columns</p>\n",
       "</div>"
      ],
      "text/plain": [
       "   edible-poisonous_p  cap-shape_c  cap-shape_f  cap-shape_o  cap-shape_p  \\\n",
       "0                   1            0            0            0            0   \n",
       "1                   1            0            0            1            0   \n",
       "2                   1            1            0            0            0   \n",
       "3                   1            0            0            0            0   \n",
       "4                   1            0            0            0            0   \n",
       "\n",
       "   cap-shape_s  cap-color_e  cap-color_g  cap-color_k  cap-color_l  ...  \\\n",
       "0            0            0            0            0            0  ...   \n",
       "1            0            0            1            0            0  ...   \n",
       "2            0            0            0            0            0  ...   \n",
       "3            0            0            0            0            0  ...   \n",
       "4            0            0            0            0            0  ...   \n",
       "\n",
       "   ring-type_r  ring-type_z  habitat_g  habitat_h  habitat_l  habitat_m  \\\n",
       "0            0            0          0          0          0          0   \n",
       "1            0            0          0          0          0          0   \n",
       "2            0            0          0          0          0          0   \n",
       "3            0            0          0          0          0          0   \n",
       "4            0            0          0          0          0          0   \n",
       "\n",
       "   habitat_p  habitat_u  habitat_w  mul_add_cd_s_w_sh  \n",
       "0          0          0          0           126.7684  \n",
       "1          0          0          0             0.0000  \n",
       "2          0          0          0            92.2242  \n",
       "3          0          0          0             7.4476  \n",
       "4          0          0          0           413.2208  \n",
       "\n",
       "[5 rows x 59 columns]"
      ]
     },
     "execution_count": 61,
     "metadata": {},
     "output_type": "execute_result"
    }
   ],
   "source": [
    "X.head()"
   ]
  },
  {
   "cell_type": "code",
   "execution_count": 62,
   "id": "ac1fe706",
   "metadata": {},
   "outputs": [
    {
     "data": {
      "text/plain": [
       "(61069, 59)"
      ]
     },
     "execution_count": 62,
     "metadata": {},
     "output_type": "execute_result"
    }
   ],
   "source": [
    "X.shape"
   ]
  },
  {
   "cell_type": "code",
   "execution_count": 63,
   "id": "6325c8a7",
   "metadata": {
    "scrolled": false
   },
   "outputs": [
    {
     "data": {
      "text/plain": [
       "Index(['edible-poisonous_p', 'cap-shape_c', 'cap-shape_f', 'cap-shape_o',\n",
       "       'cap-shape_p', 'cap-shape_s', 'cap-color_e', 'cap-color_g',\n",
       "       'cap-color_k', 'cap-color_l', 'cap-color_o', 'cap-color_p',\n",
       "       'cap-color_r', 'cap-color_u', 'cap-color_w', 'cap-color_y',\n",
       "       'does-bruise-or-bleed_t', 'gill-attachment_d', 'gill-attachment_e',\n",
       "       'gill-attachment_f', 'gill-attachment_p', 'gill-attachment_s',\n",
       "       'gill-attachment_x', 'gill-color_e', 'gill-color_g', 'gill-color_k',\n",
       "       'gill-color_n', 'gill-color_o', 'gill-color_p', 'gill-color_r',\n",
       "       'gill-color_u', 'gill-color_w', 'gill-color_y', 'stem-color_e',\n",
       "       'stem-color_f', 'stem-color_g', 'stem-color_k', 'stem-color_l',\n",
       "       'stem-color_n', 'stem-color_o', 'stem-color_p', 'stem-color_r',\n",
       "       'stem-color_u', 'stem-color_y', 'has-ring_t', 'ring-type_g',\n",
       "       'ring-type_l', 'ring-type_m', 'ring-type_p', 'ring-type_r',\n",
       "       'ring-type_z', 'habitat_g', 'habitat_h', 'habitat_l', 'habitat_m',\n",
       "       'habitat_p', 'habitat_u', 'habitat_w', 'mul_add_cd_s_w_sh'],\n",
       "      dtype='object')"
      ]
     },
     "execution_count": 63,
     "metadata": {},
     "output_type": "execute_result"
    }
   ],
   "source": [
    "X.columns"
   ]
  },
  {
   "cell_type": "code",
   "execution_count": 64,
   "id": "0479b9c1",
   "metadata": {},
   "outputs": [],
   "source": [
    "df2=df1.drop(['cap-diameter','stem-width','add_cd_s_w','stem-height','stem-height',\n",
    "            'stem-color_w','cap-color_n','ring-type_f','gill-color_f','cap-shape_x'],axis=1)\n",
    "#Dropping those column which increses the vif"
   ]
  },
  {
   "cell_type": "code",
   "execution_count": 65,
   "id": "ae325f95",
   "metadata": {
    "scrolled": true
   },
   "outputs": [],
   "source": [
    "#Again dividing the table in to test and train\n",
    "train=df2.iloc[:42748]\n",
    "test=df2.iloc[42749:]"
   ]
  },
  {
   "cell_type": "code",
   "execution_count": 66,
   "id": "2643715e",
   "metadata": {},
   "outputs": [
    {
     "name": "stderr",
     "output_type": "stream",
     "text": [
      "C:\\Users\\Nikhil\\anaconda3\\lib\\site-packages\\pandas\\core\\frame.py:4308: SettingWithCopyWarning: \n",
      "A value is trying to be set on a copy of a slice from a DataFrame\n",
      "\n",
      "See the caveats in the documentation: https://pandas.pydata.org/pandas-docs/stable/user_guide/indexing.html#returning-a-view-versus-a-copy\n",
      "  return super().drop(\n"
     ]
    }
   ],
   "source": [
    "test.reset_index(inplace=True)#resetting index\n",
    "test.drop('index',axis=1,inplace=True)#dropping index column"
   ]
  },
  {
   "cell_type": "code",
   "execution_count": 67,
   "id": "a9ba8c31",
   "metadata": {},
   "outputs": [
    {
     "data": {
      "text/html": [
       "<div>\n",
       "<style scoped>\n",
       "    .dataframe tbody tr th:only-of-type {\n",
       "        vertical-align: middle;\n",
       "    }\n",
       "\n",
       "    .dataframe tbody tr th {\n",
       "        vertical-align: top;\n",
       "    }\n",
       "\n",
       "    .dataframe thead th {\n",
       "        text-align: right;\n",
       "    }\n",
       "</style>\n",
       "<table border=\"1\" class=\"dataframe\">\n",
       "  <thead>\n",
       "    <tr style=\"text-align: right;\">\n",
       "      <th></th>\n",
       "      <th>season</th>\n",
       "      <th>edible-poisonous_p</th>\n",
       "      <th>cap-shape_c</th>\n",
       "      <th>cap-shape_f</th>\n",
       "      <th>cap-shape_o</th>\n",
       "      <th>cap-shape_p</th>\n",
       "      <th>cap-shape_s</th>\n",
       "      <th>cap-color_e</th>\n",
       "      <th>cap-color_g</th>\n",
       "      <th>cap-color_k</th>\n",
       "      <th>...</th>\n",
       "      <th>ring-type_r</th>\n",
       "      <th>ring-type_z</th>\n",
       "      <th>habitat_g</th>\n",
       "      <th>habitat_h</th>\n",
       "      <th>habitat_l</th>\n",
       "      <th>habitat_m</th>\n",
       "      <th>habitat_p</th>\n",
       "      <th>habitat_u</th>\n",
       "      <th>habitat_w</th>\n",
       "      <th>mul_add_cd_s_w_sh</th>\n",
       "    </tr>\n",
       "  </thead>\n",
       "  <tbody>\n",
       "    <tr>\n",
       "      <th>0</th>\n",
       "      <td>NaN</td>\n",
       "      <td>1</td>\n",
       "      <td>0</td>\n",
       "      <td>0</td>\n",
       "      <td>0</td>\n",
       "      <td>0</td>\n",
       "      <td>0</td>\n",
       "      <td>0</td>\n",
       "      <td>0</td>\n",
       "      <td>0</td>\n",
       "      <td>...</td>\n",
       "      <td>0</td>\n",
       "      <td>0</td>\n",
       "      <td>0</td>\n",
       "      <td>0</td>\n",
       "      <td>0</td>\n",
       "      <td>0</td>\n",
       "      <td>0</td>\n",
       "      <td>0</td>\n",
       "      <td>0</td>\n",
       "      <td>282.9676</td>\n",
       "    </tr>\n",
       "    <tr>\n",
       "      <th>1</th>\n",
       "      <td>NaN</td>\n",
       "      <td>1</td>\n",
       "      <td>0</td>\n",
       "      <td>0</td>\n",
       "      <td>0</td>\n",
       "      <td>0</td>\n",
       "      <td>0</td>\n",
       "      <td>0</td>\n",
       "      <td>0</td>\n",
       "      <td>0</td>\n",
       "      <td>...</td>\n",
       "      <td>0</td>\n",
       "      <td>0</td>\n",
       "      <td>1</td>\n",
       "      <td>0</td>\n",
       "      <td>0</td>\n",
       "      <td>0</td>\n",
       "      <td>0</td>\n",
       "      <td>0</td>\n",
       "      <td>0</td>\n",
       "      <td>162.5754</td>\n",
       "    </tr>\n",
       "    <tr>\n",
       "      <th>2</th>\n",
       "      <td>NaN</td>\n",
       "      <td>1</td>\n",
       "      <td>0</td>\n",
       "      <td>0</td>\n",
       "      <td>0</td>\n",
       "      <td>0</td>\n",
       "      <td>1</td>\n",
       "      <td>0</td>\n",
       "      <td>0</td>\n",
       "      <td>0</td>\n",
       "      <td>...</td>\n",
       "      <td>0</td>\n",
       "      <td>0</td>\n",
       "      <td>0</td>\n",
       "      <td>0</td>\n",
       "      <td>0</td>\n",
       "      <td>0</td>\n",
       "      <td>0</td>\n",
       "      <td>0</td>\n",
       "      <td>0</td>\n",
       "      <td>202.1669</td>\n",
       "    </tr>\n",
       "    <tr>\n",
       "      <th>3</th>\n",
       "      <td>NaN</td>\n",
       "      <td>1</td>\n",
       "      <td>0</td>\n",
       "      <td>0</td>\n",
       "      <td>0</td>\n",
       "      <td>0</td>\n",
       "      <td>0</td>\n",
       "      <td>0</td>\n",
       "      <td>0</td>\n",
       "      <td>0</td>\n",
       "      <td>...</td>\n",
       "      <td>0</td>\n",
       "      <td>0</td>\n",
       "      <td>0</td>\n",
       "      <td>0</td>\n",
       "      <td>1</td>\n",
       "      <td>0</td>\n",
       "      <td>0</td>\n",
       "      <td>0</td>\n",
       "      <td>0</td>\n",
       "      <td>8.4005</td>\n",
       "    </tr>\n",
       "    <tr>\n",
       "      <th>4</th>\n",
       "      <td>NaN</td>\n",
       "      <td>0</td>\n",
       "      <td>0</td>\n",
       "      <td>0</td>\n",
       "      <td>0</td>\n",
       "      <td>1</td>\n",
       "      <td>0</td>\n",
       "      <td>0</td>\n",
       "      <td>0</td>\n",
       "      <td>0</td>\n",
       "      <td>...</td>\n",
       "      <td>0</td>\n",
       "      <td>0</td>\n",
       "      <td>0</td>\n",
       "      <td>0</td>\n",
       "      <td>0</td>\n",
       "      <td>1</td>\n",
       "      <td>0</td>\n",
       "      <td>0</td>\n",
       "      <td>0</td>\n",
       "      <td>696.6632</td>\n",
       "    </tr>\n",
       "  </tbody>\n",
       "</table>\n",
       "<p>5 rows × 60 columns</p>\n",
       "</div>"
      ],
      "text/plain": [
       "   season  edible-poisonous_p  cap-shape_c  cap-shape_f  cap-shape_o  \\\n",
       "0     NaN                   1            0            0            0   \n",
       "1     NaN                   1            0            0            0   \n",
       "2     NaN                   1            0            0            0   \n",
       "3     NaN                   1            0            0            0   \n",
       "4     NaN                   0            0            0            0   \n",
       "\n",
       "   cap-shape_p  cap-shape_s  cap-color_e  cap-color_g  cap-color_k  ...  \\\n",
       "0            0            0            0            0            0  ...   \n",
       "1            0            0            0            0            0  ...   \n",
       "2            0            1            0            0            0  ...   \n",
       "3            0            0            0            0            0  ...   \n",
       "4            1            0            0            0            0  ...   \n",
       "\n",
       "   ring-type_r  ring-type_z  habitat_g  habitat_h  habitat_l  habitat_m  \\\n",
       "0            0            0          0          0          0          0   \n",
       "1            0            0          1          0          0          0   \n",
       "2            0            0          0          0          0          0   \n",
       "3            0            0          0          0          1          0   \n",
       "4            0            0          0          0          0          1   \n",
       "\n",
       "   habitat_p  habitat_u  habitat_w  mul_add_cd_s_w_sh  \n",
       "0          0          0          0           282.9676  \n",
       "1          0          0          0           162.5754  \n",
       "2          0          0          0           202.1669  \n",
       "3          0          0          0             8.4005  \n",
       "4          0          0          0           696.6632  \n",
       "\n",
       "[5 rows x 60 columns]"
      ]
     },
     "execution_count": 67,
     "metadata": {},
     "output_type": "execute_result"
    }
   ],
   "source": [
    "test.head()"
   ]
  },
  {
   "cell_type": "markdown",
   "id": "19dcedf2",
   "metadata": {},
   "source": [
    "#### operation on train data frame"
   ]
  },
  {
   "cell_type": "code",
   "execution_count": 68,
   "id": "c5b6b3e1",
   "metadata": {},
   "outputs": [],
   "source": [
    "from sklearn.model_selection import train_test_split"
   ]
  },
  {
   "cell_type": "code",
   "execution_count": 69,
   "id": "d9ced07d",
   "metadata": {},
   "outputs": [],
   "source": [
    "#dividing X and Y columns\n",
    "y=train['season']\n",
    "X=train.drop('season',axis=1)"
   ]
  },
  {
   "cell_type": "code",
   "execution_count": 70,
   "id": "33d0e2fb",
   "metadata": {},
   "outputs": [
    {
     "name": "stdout",
     "output_type": "stream",
     "text": [
      "0        0.0\n",
      "1        3.0\n",
      "2        0.0\n",
      "3        0.0\n",
      "4        1.0\n",
      "        ... \n",
      "42743    0.0\n",
      "42744    1.0\n",
      "42745    2.0\n",
      "42746    1.0\n",
      "42747    0.0\n",
      "Name: season, Length: 42748, dtype: float64\n"
     ]
    }
   ],
   "source": [
    "print(y)"
   ]
  },
  {
   "cell_type": "code",
   "execution_count": 71,
   "id": "f7cfa765",
   "metadata": {},
   "outputs": [],
   "source": [
    "X_train,val_x,y_train,val_y=train_test_split(X,y,test_size=.25,random_state=88)"
   ]
  },
  {
   "cell_type": "code",
   "execution_count": 72,
   "id": "511de5f2",
   "metadata": {},
   "outputs": [
    {
     "name": "stdout",
     "output_type": "stream",
     "text": [
      "Shape of train df :(42748, 60)\n",
      "Shape of X_train df :(32061, 59)\n",
      "Shape of y_train df :(32061,)\n",
      "Shape of val_x df :(10687, 59)\n",
      "Shape of val_y df :(10687,)\n"
     ]
    }
   ],
   "source": [
    "print('Shape of train df :{}'.format(train.shape))\n",
    "\n",
    "print('Shape of X_train df :{}'.format(X_train.shape))\n",
    "\n",
    "print('Shape of y_train df :{}'.format(y_train.shape))\n",
    "\n",
    "print('Shape of val_x df :{}'.format(val_x.shape))\n",
    "\n",
    "print('Shape of val_y df :{}'.format(val_y.shape))"
   ]
  },
  {
   "cell_type": "markdown",
   "id": "76f7aa68",
   "metadata": {},
   "source": [
    "### Standardizing by Min Max Scalor"
   ]
  },
  {
   "cell_type": "code",
   "execution_count": 73,
   "id": "ac00542c",
   "metadata": {},
   "outputs": [],
   "source": [
    "from sklearn.preprocessing import MinMaxScaler"
   ]
  },
  {
   "cell_type": "code",
   "execution_count": 74,
   "id": "9070c4ac",
   "metadata": {},
   "outputs": [
    {
     "data": {
      "text/html": [
       "<div>\n",
       "<style scoped>\n",
       "    .dataframe tbody tr th:only-of-type {\n",
       "        vertical-align: middle;\n",
       "    }\n",
       "\n",
       "    .dataframe tbody tr th {\n",
       "        vertical-align: top;\n",
       "    }\n",
       "\n",
       "    .dataframe thead th {\n",
       "        text-align: right;\n",
       "    }\n",
       "</style>\n",
       "<table border=\"1\" class=\"dataframe\">\n",
       "  <thead>\n",
       "    <tr style=\"text-align: right;\">\n",
       "      <th></th>\n",
       "      <th>edible-poisonous_p</th>\n",
       "      <th>cap-shape_c</th>\n",
       "      <th>cap-shape_f</th>\n",
       "      <th>cap-shape_o</th>\n",
       "      <th>cap-shape_p</th>\n",
       "      <th>cap-shape_s</th>\n",
       "      <th>cap-color_e</th>\n",
       "      <th>cap-color_g</th>\n",
       "      <th>cap-color_k</th>\n",
       "      <th>cap-color_l</th>\n",
       "      <th>...</th>\n",
       "      <th>ring-type_r</th>\n",
       "      <th>ring-type_z</th>\n",
       "      <th>habitat_g</th>\n",
       "      <th>habitat_h</th>\n",
       "      <th>habitat_l</th>\n",
       "      <th>habitat_m</th>\n",
       "      <th>habitat_p</th>\n",
       "      <th>habitat_u</th>\n",
       "      <th>habitat_w</th>\n",
       "      <th>mul_add_cd_s_w_sh</th>\n",
       "    </tr>\n",
       "  </thead>\n",
       "  <tbody>\n",
       "    <tr>\n",
       "      <th>0</th>\n",
       "      <td>0.0</td>\n",
       "      <td>0.0</td>\n",
       "      <td>1.0</td>\n",
       "      <td>0.0</td>\n",
       "      <td>0.0</td>\n",
       "      <td>0.0</td>\n",
       "      <td>0.0</td>\n",
       "      <td>0.0</td>\n",
       "      <td>0.0</td>\n",
       "      <td>0.0</td>\n",
       "      <td>...</td>\n",
       "      <td>0.0</td>\n",
       "      <td>0.0</td>\n",
       "      <td>0.0</td>\n",
       "      <td>0.0</td>\n",
       "      <td>0.0</td>\n",
       "      <td>0.0</td>\n",
       "      <td>0.0</td>\n",
       "      <td>0.0</td>\n",
       "      <td>0.0</td>\n",
       "      <td>0.027482</td>\n",
       "    </tr>\n",
       "  </tbody>\n",
       "</table>\n",
       "<p>1 rows × 59 columns</p>\n",
       "</div>"
      ],
      "text/plain": [
       "   edible-poisonous_p  cap-shape_c  cap-shape_f  cap-shape_o  cap-shape_p  \\\n",
       "0                 0.0          0.0          1.0          0.0          0.0   \n",
       "\n",
       "   cap-shape_s  cap-color_e  cap-color_g  cap-color_k  cap-color_l  ...  \\\n",
       "0          0.0          0.0          0.0          0.0          0.0  ...   \n",
       "\n",
       "   ring-type_r  ring-type_z  habitat_g  habitat_h  habitat_l  habitat_m  \\\n",
       "0          0.0          0.0        0.0        0.0        0.0        0.0   \n",
       "\n",
       "   habitat_p  habitat_u  habitat_w  mul_add_cd_s_w_sh  \n",
       "0        0.0        0.0        0.0           0.027482  \n",
       "\n",
       "[1 rows x 59 columns]"
      ]
     },
     "execution_count": 74,
     "metadata": {},
     "output_type": "execute_result"
    }
   ],
   "source": [
    "m= MinMaxScaler()\n",
    "X_train_m= m.fit_transform(X_train)\n",
    "val_x_m=m.transform(val_x)\n",
    "X_train_m= pd.DataFrame(X_train_m,columns=X_train.columns)\n",
    "X_train_m.head(1)"
   ]
  },
  {
   "cell_type": "markdown",
   "id": "7e5541e9",
   "metadata": {},
   "source": [
    "### Model Training"
   ]
  },
  {
   "cell_type": "markdown",
   "id": "629e6bb7",
   "metadata": {},
   "source": [
    "#### Random Forest\n"
   ]
  },
  {
   "cell_type": "code",
   "execution_count": 75,
   "id": "f2161d37",
   "metadata": {},
   "outputs": [
    {
     "name": "stdout",
     "output_type": "stream",
     "text": [
      "train accuracy: 0.9894887869997817\n",
      "test accuracy: 0.5091232338355011\n"
     ]
    }
   ],
   "source": [
    "rf=RandomForestClassifier()\n",
    "model_1=rf.fit(X_train_m,y_train)\n",
    "print(\"train accuracy:\", model_1.score(X_train_m,y_train))\n",
    "print(\"test accuracy:\", model_1.score(val_x_m,val_y))"
   ]
  },
  {
   "cell_type": "code",
   "execution_count": 76,
   "id": "f72d1904",
   "metadata": {},
   "outputs": [
    {
     "name": "stdout",
     "output_type": "stream",
     "text": [
      "Fitting 10 folds for each of 1024 candidates, totalling 10240 fits\n"
     ]
    },
    {
     "data": {
      "text/plain": [
       "GridSearchCV(cv=10, estimator=RandomForestClassifier(), n_jobs=-1,\n",
       "             param_grid={'bootstrap': [True, False],\n",
       "                         'criterion': ('gini', 'entropy'),\n",
       "                         'max_depth': [2, 4, 6, 8, 9, 10, 11, 12],\n",
       "                         'min_samples_leaf': [5, 10],\n",
       "                         'min_samples_split': [2, 3, 4, 5],\n",
       "                         'n_estimators': [5, 7, 9, 11]},\n",
       "             verbose=1)"
      ]
     },
     "execution_count": 76,
     "metadata": {},
     "output_type": "execute_result"
    }
   ],
   "source": [
    "#hyper parameter tunning\n",
    "\n",
    "parameters = {\n",
    "             'criterion':('gini', 'entropy'), \n",
    "             \"bootstrap\":[True,False],#(simple random sampling with replacement)\n",
    "             \"n_estimators\":[5,7,9,11],#(no. of columns used for sampling)\n",
    "             'min_samples_split':[2,3,4,5],\n",
    "              'max_depth':[2,4,6,8,9,10,11,12],\n",
    "              \"min_samples_leaf\":[5,10]\n",
    "             }\n",
    "\n",
    "tr = RandomForestClassifier()\n",
    "\n",
    "gsearch1 = GridSearchCV(tr, parameters, cv=10, verbose=1, n_jobs=-1)\n",
    "gsearch1.fit(X_train_m,y_train)"
   ]
  },
  {
   "cell_type": "code",
   "execution_count": 77,
   "id": "a0f69f35",
   "metadata": {},
   "outputs": [
    {
     "data": {
      "text/plain": [
       "{'bootstrap': True,\n",
       " 'criterion': 'gini',\n",
       " 'max_depth': 11,\n",
       " 'min_samples_leaf': 5,\n",
       " 'min_samples_split': 2,\n",
       " 'n_estimators': 5}"
      ]
     },
     "execution_count": 77,
     "metadata": {},
     "output_type": "execute_result"
    }
   ],
   "source": [
    "gsearch1.best_params_"
   ]
  },
  {
   "cell_type": "code",
   "execution_count": 78,
   "id": "a92f6a44",
   "metadata": {},
   "outputs": [
    {
     "data": {
      "text/plain": [
       "0.5197591590915147"
      ]
     },
     "execution_count": 78,
     "metadata": {},
     "output_type": "execute_result"
    }
   ],
   "source": [
    "gsearch1.best_score_"
   ]
  },
  {
   "cell_type": "code",
   "execution_count": 82,
   "id": "721aed33",
   "metadata": {},
   "outputs": [
    {
     "name": "stdout",
     "output_type": "stream",
     "text": [
      "train accuracy= 0.5632076354449331\n",
      "test accuracy= 0.5068775147375316\n"
     ]
    }
   ],
   "source": [
    "rf1=RandomForestClassifier( bootstrap= False,\n",
    "                            criterion= 'gini',\n",
    "                            max_depth= 11,\n",
    "                            min_samples_leaf = 5,\n",
    "                            min_samples_split= 4,\n",
    "                            n_estimators = 5)\n",
    "model_rf=rf1.fit(X_train_m,y_train)\n",
    "print(\"train accuracy=\", model_rf.score(X_train_m,y_train))\n",
    "print(\"test accuracy=\", model_rf.score(val_x_m,val_y))"
   ]
  },
  {
   "cell_type": "code",
   "execution_count": 83,
   "id": "cb249e57",
   "metadata": {},
   "outputs": [
    {
     "name": "stdout",
     "output_type": "stream",
     "text": [
      "train_report\n",
      "              precision    recall  f1-score   support\n",
      "\n",
      "         0.0       0.55      0.89      0.68     15877\n",
      "         1.0       0.60      0.29      0.39     12022\n",
      "         2.0       0.54      0.07      0.13      2769\n",
      "         3.0       0.71      0.22      0.34      1393\n",
      "\n",
      "    accuracy                           0.56     32061\n",
      "   macro avg       0.60      0.37      0.39     32061\n",
      "weighted avg       0.58      0.56      0.51     32061\n",
      "\n",
      "*************************************************************************************\n",
      "test_report\n",
      "              precision    recall  f1-score   support\n",
      "\n",
      "         0.0       0.51      0.84      0.64      5226\n",
      "         1.0       0.47      0.22      0.30      4033\n",
      "         2.0       0.32      0.04      0.07       929\n",
      "         3.0       0.65      0.18      0.28       499\n",
      "\n",
      "    accuracy                           0.51     10687\n",
      "   macro avg       0.49      0.32      0.32     10687\n",
      "weighted avg       0.49      0.51      0.44     10687\n",
      "\n"
     ]
    }
   ],
   "source": [
    "pred_train_rf=model_rf.predict(X_train_m)\n",
    "pred_test_rf=model_rf.predict(val_x_m)\n",
    "print(\"train_report\")\n",
    "print(metrics.classification_report(y_train,pred_train_rf))\n",
    "print(\"*************************************************************************************\")\n",
    "print(\"test_report\")\n",
    "print(metrics.classification_report(val_y,pred_test_rf))"
   ]
  },
  {
   "cell_type": "code",
   "execution_count": 85,
   "id": "359b9523",
   "metadata": {},
   "outputs": [
    {
     "name": "stderr",
     "output_type": "stream",
     "text": [
      "C:\\Users\\Nikhil\\anaconda3\\lib\\site-packages\\pandas\\core\\frame.py:4308: SettingWithCopyWarning: \n",
      "A value is trying to be set on a copy of a slice from a DataFrame\n",
      "\n",
      "See the caveats in the documentation: https://pandas.pydata.org/pandas-docs/stable/user_guide/indexing.html#returning-a-view-versus-a-copy\n",
      "  return super().drop(\n"
     ]
    }
   ],
   "source": [
    "test.drop('season',axis=1,inplace=True)"
   ]
  },
  {
   "cell_type": "code",
   "execution_count": 86,
   "id": "dd293f5a",
   "metadata": {
    "scrolled": true
   },
   "outputs": [],
   "source": [
    "submission=model_rf.predict(test)"
   ]
  },
  {
   "cell_type": "code",
   "execution_count": 87,
   "id": "1c2d7e10",
   "metadata": {},
   "outputs": [
    {
     "name": "stderr",
     "output_type": "stream",
     "text": [
      "<ipython-input-87-34abaf64798e>:1: SettingWithCopyWarning: \n",
      "A value is trying to be set on a copy of a slice from a DataFrame.\n",
      "Try using .loc[row_indexer,col_indexer] = value instead\n",
      "\n",
      "See the caveats in the documentation: https://pandas.pydata.org/pandas-docs/stable/user_guide/indexing.html#returning-a-view-versus-a-copy\n",
      "  test['season']=submission\n"
     ]
    }
   ],
   "source": [
    "test['season']=submission"
   ]
  },
  {
   "cell_type": "code",
   "execution_count": 88,
   "id": "3812445e",
   "metadata": {},
   "outputs": [
    {
     "data": {
      "text/plain": [
       "array([0., 1., 3., 2.])"
      ]
     },
     "execution_count": 88,
     "metadata": {},
     "output_type": "execute_result"
    }
   ],
   "source": [
    "test['season'].unique()"
   ]
  },
  {
   "cell_type": "code",
   "execution_count": 89,
   "id": "e3cb69d0",
   "metadata": {},
   "outputs": [
    {
     "name": "stderr",
     "output_type": "stream",
     "text": [
      "<ipython-input-89-d97e0c2a8d20>:1: SettingWithCopyWarning: \n",
      "A value is trying to be set on a copy of a slice from a DataFrame.\n",
      "Try using .loc[row_indexer,col_indexer] = value instead\n",
      "\n",
      "See the caveats in the documentation: https://pandas.pydata.org/pandas-docs/stable/user_guide/indexing.html#returning-a-view-versus-a-copy\n",
      "  test['season']=test['season'].astype('int64')#changing data type from float to integer\n"
     ]
    }
   ],
   "source": [
    "test['season']=test['season'].astype('int64')#changing data type from float to integer"
   ]
  },
  {
   "cell_type": "code",
   "execution_count": 90,
   "id": "4cc16e94",
   "metadata": {},
   "outputs": [
    {
     "name": "stderr",
     "output_type": "stream",
     "text": [
      "<ipython-input-90-f8c7dd1fa5a8>:12: SettingWithCopyWarning: \n",
      "A value is trying to be set on a copy of a slice from a DataFrame.\n",
      "Try using .loc[row_indexer,col_indexer] = value instead\n",
      "\n",
      "See the caveats in the documentation: https://pandas.pydata.org/pandas-docs/stable/user_guide/indexing.html#returning-a-view-versus-a-copy\n",
      "  test['season']=test['season'].apply(season_cate)\n"
     ]
    }
   ],
   "source": [
    "#season is categorical making them numerical\n",
    "def season_cate(x):\n",
    "    if x==0:\n",
    "        return 'a'\n",
    "    elif x==1:\n",
    "        return 'u'\n",
    "    elif x==2:\n",
    "        return 'w'\n",
    "    else:\n",
    "        return 's'\n",
    "\n",
    "test['season']=test['season'].apply(season_cate)\n"
   ]
  },
  {
   "cell_type": "code",
   "execution_count": 91,
   "id": "80af5db3",
   "metadata": {},
   "outputs": [
    {
     "data": {
      "text/plain": [
       "a    15962\n",
       "u     2045\n",
       "s      174\n",
       "w      139\n",
       "Name: season, dtype: int64"
      ]
     },
     "execution_count": 91,
     "metadata": {},
     "output_type": "execute_result"
    }
   ],
   "source": [
    "test['season'].value_counts()"
   ]
  },
  {
   "cell_type": "code",
   "execution_count": 92,
   "id": "081250df",
   "metadata": {},
   "outputs": [],
   "source": [
    "test.reset_index(inplace=True)\n",
    "submission_rf=test['season']\n",
    "submission_rf.to_csv('submission_nikhil_rf.csv')"
   ]
  },
  {
   "cell_type": "code",
   "execution_count": null,
   "id": "2d2dbd31",
   "metadata": {},
   "outputs": [],
   "source": []
  }
 ],
 "metadata": {
  "kernelspec": {
   "display_name": "Python 3",
   "language": "python",
   "name": "python3"
  },
  "language_info": {
   "codemirror_mode": {
    "name": "ipython",
    "version": 3
   },
   "file_extension": ".py",
   "mimetype": "text/x-python",
   "name": "python",
   "nbconvert_exporter": "python",
   "pygments_lexer": "ipython3",
   "version": "3.8.8"
  }
 },
 "nbformat": 4,
 "nbformat_minor": 5
}
